{
 "cells": [
  {
   "cell_type": "code",
   "execution_count": 1,
   "id": "381db71e-7592-4069-9980-9956c3a3968e",
   "metadata": {},
   "outputs": [
    {
     "name": "stdout",
     "output_type": "stream",
     "text": [
      "Hello world\n"
     ]
    }
   ],
   "source": [
    "# Print\n",
    "print(\"Hello world\");\n"
   ]
  },
  {
   "cell_type": "code",
   "execution_count": null,
   "id": "a76ef3fa",
   "metadata": {},
   "outputs": [],
   "source": [
    "# printf, length of list\n",
    "x = [1, 2, 3]\n",
    "print(f'row size: {len(x)}')"
   ]
  }
 ],
 "metadata": {
  "kernelspec": {
   "display_name": "Python 3 (ipykernel)",
   "language": "python",
   "name": "python3"
  },
  "language_info": {
   "codemirror_mode": {
    "name": "ipython",
    "version": 3
   },
   "file_extension": ".py",
   "mimetype": "text/x-python",
   "name": "python",
   "nbconvert_exporter": "python",
   "pygments_lexer": "ipython3",
   "version": "3.13.2"
  }
 },
 "nbformat": 4,
 "nbformat_minor": 5
}
