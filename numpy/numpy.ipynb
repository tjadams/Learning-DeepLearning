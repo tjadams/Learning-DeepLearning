{
 "cells": [
  {
   "cell_type": "code",
   "execution_count": null,
   "id": "ab66c822",
   "metadata": {},
   "outputs": [],
   "source": [
    "# Helpful resources I used\n",
    "# https://numpy.org/devdocs/user/quickstart.html\n",
    "# https://medium.com/better-programming/numpy-illustrated-the-visual-guide-to-numpy-3b1d4976de1d"
   ]
  },
  {
   "cell_type": "code",
   "execution_count": 2,
   "id": "381db71e-7592-4069-9980-9956c3a3968e",
   "metadata": {},
   "outputs": [],
   "source": [
    "import numpy as np"
   ]
  },
  {
   "cell_type": "code",
   "execution_count": 10,
   "id": "659a2ac6",
   "metadata": {},
   "outputs": [
    {
     "name": "stdout",
     "output_type": "stream",
     "text": [
      "[1 2 3]\n",
      "[[1 2 3]\n",
      " [4 5 6]]\n",
      "(2, 3)\n",
      "(1, 3)\n"
     ]
    }
   ],
   "source": [
    "print(np.array([1, 2, 3]))\n",
    "print(np.array([[1, 2, 3], [4, 5, 6]]))\n",
    "\n",
    "# shape is the number of rows and columns\n",
    "# 2 rows by 3 columns\n",
    "print(np.array([[1, 2, 3], [4, 5, 6]]).shape)\n",
    "\n",
    "print(np.array([[1, 2, 3]]).shape)"
   ]
  },
  {
   "cell_type": "code",
   "execution_count": 41,
   "id": "eafc0ab2",
   "metadata": {},
   "outputs": [
    {
     "name": "stdout",
     "output_type": "stream",
     "text": [
      "6\n",
      "row size: 2\n",
      "row size - approach 2: 2\n",
      "col size: 3\n"
     ]
    }
   ],
   "source": [
    "# ARRAY CREATION, ANALYSIS\n",
    "\n",
    "x = np.array([[1, 2, 3], [4, 5, 6]])\n",
    "y = np.array([\n",
    "  [1, 2],\n",
    "  [3, 4],\n",
    "  [5, 6]\n",
    "])\n",
    "\n",
    "# 6 elements\n",
    "print(x.size)\n",
    "\n",
    "# size of individual row (2 columns)\n",
    "print(f'row size: {y[0].size}')\n",
    "print(f'row size - approach 2: {y.shape[1]}')\n",
    "\n",
    "# size of individual column (3 rows)\n",
    "print(f'col size: {y.shape[0]}')\n",
    "\n"
   ]
  },
  {
   "cell_type": "code",
   "execution_count": null,
   "id": "2d0cb42d",
   "metadata": {},
   "outputs": [],
   "source": [
    "\n",
    "# 2d array\n",
    "print(x.ndim)\n",
    "\n",
    "# 2 rows by 3 columns\n",
    "print(x.shape)\n",
    "\n",
    "# int64\n",
    "print(x.dtype)"
   ]
  },
  {
   "cell_type": "code",
   "execution_count": null,
   "id": "ba3ff4da",
   "metadata": {},
   "outputs": [],
   "source": []
  },
  {
   "cell_type": "code",
   "execution_count": null,
   "id": "57534f9f",
   "metadata": {},
   "outputs": [],
   "source": []
  },
  {
   "cell_type": "code",
   "execution_count": 28,
   "id": "5d3da6f3",
   "metadata": {},
   "outputs": [
    {
     "name": "stdout",
     "output_type": "stream",
     "text": [
      "[0. 0. 0. 0. 0.]\n",
      "[[0. 0.]\n",
      " [0. 0.]\n",
      " [0. 0.]\n",
      " [0. 0.]\n",
      " [0. 0.]]\n",
      "[1. 1. 1. 1. 1.]\n",
      "[[1. 1.]\n",
      " [1. 1.]\n",
      " [1. 1.]\n",
      " [1. 1.]\n",
      " [1. 1.]]\n",
      "[[100 100 100]\n",
      " [100 100 100]]\n",
      "[[1. 0. 0. 0.]\n",
      " [0. 1. 0. 0.]\n",
      " [0. 0. 1. 0.]\n",
      " [0. 0. 0. 1.]]\n"
     ]
    }
   ],
   "source": [
    "# CREATING A MATRIX QUICKLY\n",
    "\n",
    "# 1x5 (row, column)\n",
    "print(np.zeros(5))\n",
    "\n",
    "# print(np.zeros(5, 2))\n",
    "# 5 row by 2 column\n",
    "print(np.zeros((5, 2)))\n",
    "\n",
    "# Same works with ones\n",
    "print(np.ones(5))\n",
    "print(np.ones((5,2)))\n",
    "\n",
    "# 2x3 matrix with 100s as values\n",
    "print(np.full((2,3), 100))\n",
    "\n",
    "# Identity matrix \n",
    "print (np.eye(4))"
   ]
  },
  {
   "cell_type": "code",
   "execution_count": 19,
   "id": "3bd84450",
   "metadata": {},
   "outputs": [
    {
     "name": "stdout",
     "output_type": "stream",
     "text": [
      "1\n",
      "2\n",
      "3\n"
     ]
    },
    {
     "ename": "IndexError",
     "evalue": "index 3 is out of bounds for axis 0 with size 3",
     "output_type": "error",
     "traceback": [
      "\u001b[0;31m---------------------------------------------------------------------------\u001b[0m",
      "\u001b[0;31mIndexError\u001b[0m                                Traceback (most recent call last)",
      "Cell \u001b[0;32mIn[19], line 7\u001b[0m\n\u001b[1;32m      4\u001b[0m \u001b[38;5;28mprint\u001b[39m(x[\u001b[38;5;241m0\u001b[39m][\u001b[38;5;241m2\u001b[39m])\n\u001b[1;32m      6\u001b[0m \u001b[38;5;66;03m# Throw\u001b[39;00m\n\u001b[0;32m----> 7\u001b[0m \u001b[38;5;28mprint\u001b[39m(\u001b[43mx\u001b[49m\u001b[43m[\u001b[49m\u001b[38;5;241;43m0\u001b[39;49m\u001b[43m]\u001b[49m\u001b[43m[\u001b[49m\u001b[38;5;241;43m3\u001b[39;49m\u001b[43m]\u001b[49m)\n",
      "\u001b[0;31mIndexError\u001b[0m: index 3 is out of bounds for axis 0 with size 3"
     ]
    }
   ],
   "source": [
    "# Array indexing\n",
    "\n",
    "x = np.array([[1, 2, 3], [4, 5, 6]])\n",
    "print(x[0][0])\n",
    "print(x[0][1])\n",
    "print(x[0][2])\n",
    "\n",
    "# Throw\n",
    "print(x[0][3])\n"
   ]
  },
  {
   "cell_type": "code",
   "execution_count": 20,
   "id": "e0f80aa8",
   "metadata": {},
   "outputs": [
    {
     "name": "stdout",
     "output_type": "stream",
     "text": [
      "3\n",
      "2\n",
      "printing first row\n",
      "[1 2 3]\n",
      "[1 2 3]\n",
      "[1 2 3]\n",
      "[1 2 3]\n",
      "printing 2nd row\n",
      "[4 5 6]\n",
      "[4 5 6]\n",
      "printing first col\n",
      "[1 4]\n",
      "printing 2nd col\n",
      "[2 5]\n"
     ]
    }
   ],
   "source": [
    "# Array slicing\n",
    "\n",
    "x = np.array([\n",
    "  [1, 2, 3], \n",
    "  [4, 5, 6], \n",
    "  # [7,8,9]\n",
    "  ])\n",
    "\n",
    "# row size = num columns\n",
    "rowSize = x.shape[1];\n",
    "numCols = rowSize\n",
    "print(rowSize)\n",
    "\n",
    "# col size = num rows\n",
    "colSize = x.shape[0];\n",
    "numRows = colSize\n",
    "print(colSize)\n",
    "\n",
    "\n",
    "# print first row\n",
    "print(\"printing first row\")\n",
    "print(x[0][0:])\n",
    "print(x[0][0:rowSize])\n",
    "print(x[0][0:])\n",
    "print(x[0, :])\n",
    "      \n",
    "# second row\n",
    "print(\"printing 2nd row\")\n",
    "print(x[1][:])\n",
    "print(x[1, :])\n",
    "\n",
    "\n",
    "# print first column\n",
    "print(\"printing first col\")\n",
    "# wrong: print(x[0:numRows][0])\n",
    "# wrong: print(x[:][1])\n",
    "# wrong: print(x[0][:])\n",
    "print(x[:, 0])\n",
    "\n",
    "# 2nd column\n",
    "print(\"printing 2nd col\")\n",
    "print(x[:, 1])\n"
   ]
  },
  {
   "cell_type": "code",
   "execution_count": 5,
   "id": "2473099f",
   "metadata": {},
   "outputs": [
    {
     "name": "stdout",
     "output_type": "stream",
     "text": [
      "[4 6]\n",
      "[-2 -2]\n",
      "[4.2 6.2]\n",
      "[-2. -2.]\n"
     ]
    }
   ],
   "source": [
    "# Vector + vector, vector - vector\n",
    "# ints\n",
    "print(np.array([1, 2,]) + np.array([3, 4,]))\n",
    "print(np.array([1, 2,]) - np.array([3, 4,]))\n",
    "\n",
    "# floats\n",
    "print(np.array([1.1, 2.1,]) + np.array([3.1, 4.1,]))\n",
    "print(np.array([1.1, 2.1,]) - np.array([3.1, 4.1,]))"
   ]
  },
  {
   "cell_type": "code",
   "execution_count": 6,
   "id": "bc71a8fa",
   "metadata": {},
   "outputs": [
    {
     "name": "stdout",
     "output_type": "stream",
     "text": [
      "[4 5]\n",
      "[-2 -1]\n",
      "[4.2 5.2]\n",
      "[-2. -1.]\n"
     ]
    }
   ],
   "source": [
    "# Vector + scalar (broadcasting)\n",
    "# ints\n",
    "print(np.array([1, 2,]) + 3)\n",
    "print(np.array([1, 2,]) - 3)\n",
    "\n",
    "# floats\n",
    "print(np.array([1.1, 2.1,]) + 3.1)\n",
    "print(np.array([1.1, 2.1,]) - 3.1)"
   ]
  },
  {
   "cell_type": "code",
   "execution_count": 8,
   "id": "4825aada",
   "metadata": {},
   "outputs": [
    {
     "name": "stdout",
     "output_type": "stream",
     "text": [
      "[3 6]\n",
      "[3 6]\n",
      "[1. 2.]\n",
      "[0.5 1. ]\n",
      "[0.5 1. ]\n",
      "[3.41 6.51]\n",
      "[3.41 6.51]\n"
     ]
    }
   ],
   "source": [
    "# Vector * scalar (broadcasting)\n",
    "# ints\n",
    "print(np.array([1, 2,]) * 3)\n",
    "print(np.array([1, 2,]) * 3)\n",
    "\n",
    "print(np.array([1, 2,]) * 1.0)\n",
    "\n",
    "print(np.array([1, 2,]) * 1/2)\n",
    "print(np.array([1, 2,]) * 1/2)\n",
    "\n",
    "# floats\n",
    "print(np.array([1.1, 2.1,]) * 3.1)\n",
    "print(np.array([1.1, 2.1,]) * 3.1)"
   ]
  },
  {
   "cell_type": "code",
   "execution_count": 13,
   "id": "785f300e",
   "metadata": {},
   "outputs": [
    {
     "name": "stdout",
     "output_type": "stream",
     "text": [
      "[[2 4]\n",
      " [4 6]]\n"
     ]
    },
    {
     "ename": "ValueError",
     "evalue": "operands could not be broadcast together with shapes (2,2) (3,) ",
     "output_type": "error",
     "traceback": [
      "\u001b[0;31m---------------------------------------------------------------------------\u001b[0m",
      "\u001b[0;31mValueError\u001b[0m                                Traceback (most recent call last)",
      "Cell \u001b[0;32mIn[13], line 7\u001b[0m\n\u001b[1;32m      1\u001b[0m \u001b[38;5;66;03m# Matrix + vector (broadcasting)\u001b[39;00m\n\u001b[1;32m      2\u001b[0m \n\u001b[1;32m      3\u001b[0m \u001b[38;5;66;03m# Add vector (row) to every vector (row) within the matrix\u001b[39;00m\n\u001b[1;32m      4\u001b[0m \u001b[38;5;28mprint\u001b[39m(np\u001b[38;5;241m.\u001b[39marray([[\u001b[38;5;241m1\u001b[39m, \u001b[38;5;241m2\u001b[39m,],\n\u001b[1;32m      5\u001b[0m                 [\u001b[38;5;241m3\u001b[39m, \u001b[38;5;241m4\u001b[39m,]]) \u001b[38;5;241m+\u001b[39m np\u001b[38;5;241m.\u001b[39marray([\u001b[38;5;241m1\u001b[39m, \u001b[38;5;241m2\u001b[39m,]))\n\u001b[0;32m----> 7\u001b[0m \u001b[38;5;28mprint\u001b[39m(\u001b[43mnp\u001b[49m\u001b[38;5;241;43m.\u001b[39;49m\u001b[43marray\u001b[49m\u001b[43m(\u001b[49m\u001b[43m[\u001b[49m\u001b[43m[\u001b[49m\u001b[38;5;241;43m1\u001b[39;49m\u001b[43m,\u001b[49m\u001b[43m \u001b[49m\u001b[38;5;241;43m2\u001b[39;49m\u001b[43m,\u001b[49m\u001b[43m]\u001b[49m\u001b[43m,\u001b[49m\n\u001b[1;32m      8\u001b[0m \u001b[43m                \u001b[49m\u001b[43m[\u001b[49m\u001b[38;5;241;43m3\u001b[39;49m\u001b[43m,\u001b[49m\u001b[43m \u001b[49m\u001b[38;5;241;43m4\u001b[39;49m\u001b[43m,\u001b[49m\u001b[43m]\u001b[49m\u001b[43m]\u001b[49m\u001b[43m)\u001b[49m\u001b[43m \u001b[49m\u001b[38;5;241;43m+\u001b[39;49m\u001b[43m \u001b[49m\u001b[43mnp\u001b[49m\u001b[38;5;241;43m.\u001b[39;49m\u001b[43marray\u001b[49m\u001b[43m(\u001b[49m\u001b[43m[\u001b[49m\u001b[38;5;241;43m1\u001b[39;49m\u001b[43m,\u001b[49m\u001b[43m \u001b[49m\u001b[38;5;241;43m2\u001b[39;49m\u001b[43m,\u001b[49m\u001b[43m \u001b[49m\u001b[38;5;241;43m3\u001b[39;49m\u001b[43m,\u001b[49m\u001b[43m]\u001b[49m\u001b[43m)\u001b[49m)\n",
      "\u001b[0;31mValueError\u001b[0m: operands could not be broadcast together with shapes (2,2) (3,) "
     ]
    }
   ],
   "source": [
    "# Matrix + vector (broadcasting)\n",
    "\n",
    "# Add vector (row) to every vector (row) within the matrix\n",
    "print(np.array([[1, 2,],\n",
    "                [3, 4,]]) + np.array([1, 2,]))\n",
    "\n",
    "# Out of bounds due to shape mismatch, as expected\n",
    "print(np.array([[1, 2,],\n",
    "                [3, 4,]]) + np.array([1, 2, 3,]))"
   ]
  },
  {
   "cell_type": "code",
   "execution_count": 10,
   "id": "5ccbbdba",
   "metadata": {},
   "outputs": [
    {
     "name": "stdout",
     "output_type": "stream",
     "text": [
      "[[ 3  6]\n",
      " [ 9 12]]\n"
     ]
    }
   ],
   "source": [
    "# Matrix * scalar (broadcasting, works same with + and floats)\n",
    "print(np.array([[1, 2,],\n",
    "                [3, 4,]]) * 3)"
   ]
  },
  {
   "cell_type": "code",
   "execution_count": 17,
   "id": "57d5c40e",
   "metadata": {},
   "outputs": [
    {
     "name": "stdout",
     "output_type": "stream",
     "text": [
      "[[1 4]\n",
      " [3 8]]\n"
     ]
    }
   ],
   "source": [
    "# Matrix * matrix (scalar multiplication)\n",
    "# Idk what the name for this operation is, element-wise multiplication?\n",
    "# m3 = m1[0][0] * m2[0][0] as [0][0] value, m1[0][1]*m2[0][1] as [0][1] value, etc\n",
    "\n",
    "m1 = np.array([[1, 2,],\n",
    "                [3, 4,]])\n",
    "\n",
    "m2 = np.array([[1, 2,],\n",
    "                [1, 2,]])\n",
    "\n",
    "print(m1*m2)"
   ]
  },
  {
   "cell_type": "code",
   "execution_count": 22,
   "id": "bbe9ca9c",
   "metadata": {},
   "outputs": [
    {
     "name": "stdout",
     "output_type": "stream",
     "text": [
      "numpy matmul\n",
      "[[ 3  6]\n",
      " [ 7 14]]\n",
      "zeroing out\n",
      "[[0. 0.]\n",
      " [0. 0.]]\n",
      "Tyler's matmul\n",
      "[[ 3.  6.]\n",
      " [ 7. 14.]]\n"
     ]
    }
   ],
   "source": [
    "# Matrix @ matrix (matrix multiplication / dot product)\n",
    "\n",
    "# m3\n",
    "m1 = np.array([[1, 2,],\n",
    "                [3, 4,]])\n",
    "\n",
    "m2 = np.array([[1, 2,],\n",
    "                [1, 2,]])\n",
    "\n",
    "m3 = m1@m2\n",
    "\n",
    "# Remembered these rules by reviewing this page:\n",
    "# https://www.mathsisfun.com/algebra/matrix-multiplying.html\n",
    "# Dimensions rule: (m x n) @ (n x p) -> m by p, where n is the same\n",
    "# m x n is m1 dimensions and n x p is m2 dimensions\n",
    "# Dimensions: (2 x 2) @ (2 x 2) -> 2 x 2\n",
    "\n",
    "# Dot product / mat mul: \n",
    "# first row of m1 dot first column of m2\n",
    "# m3[0][0] = m1[0][0]*m2[0][0] + m1[0][1]*m2[1][0] + ... for all the columns of m1 (n times)\n",
    "# m3[0][0] = 1*1 + 2*1 = 1 + 2 = 3\n",
    "# first row of m1 dot second column of m2\n",
    "# m3[0][1] = m1[0][0]*m2[0][1] + m1[0][1]*m2[1][1] + ... n times\n",
    "# m3[0][1] = 1*2 + 2*2 = 2 + 4 = 6\n",
    "# second row of m1 dot first column of m2\n",
    "# m3[1][0] = m1[1][0]*m2[0][0] + m1[1][1]*m2[1][0] + ... n times\n",
    "# m3[1][0] = 3*1 + 4*1 = 3 + 4 = 7\n",
    "# second row of m1 dot second column of m2\n",
    "# m3[1][1] = m1[1][0]*m2[0][1] + m1[1][1]*m2[1][1] + ... n times\n",
    "# m3[1][1] = 3*2 + 4*2 = 6 + 8 = 14 \n",
    "# m3[i][j] = m1[i][0]*m2[0][j] + m1[i][1]*m2[1][j] + ... n times\n",
    "\n",
    "print(\"numpy matmul\")\n",
    "print(m3)\n",
    "\n",
    "print(\"zeroing out\")\n",
    "m3 = np.zeros((2, 2))\n",
    "print (m3)\n",
    "\n",
    "# My own implementation of matmul based on the definition I derived above\n",
    "m = m1.shape[0]\n",
    "n = m1.shape[1]\n",
    "for i in range(0, m):\n",
    "  for j in range(0, n):\n",
    "    for z in range(0, n):\n",
    "      m3[i, j] += m1[i, z]*m2[z, j]\n",
    "\n",
    "print(\"Tyler's matmul\")\n",
    "print(m3)"
   ]
  },
  {
   "cell_type": "code",
   "execution_count": null,
   "id": "eef3eb39",
   "metadata": {},
   "outputs": [],
   "source": [
    "# sqrt, exp, log, power (broadcast)\n",
    "# TODO:"
   ]
  },
  {
   "cell_type": "code",
   "execution_count": null,
   "id": "c1567a19",
   "metadata": {},
   "outputs": [],
   "source": [
    "# trigonometry (broadcast)\n",
    "# TODO:"
   ]
  },
  {
   "cell_type": "code",
   "execution_count": null,
   "id": "0d251b99",
   "metadata": {},
   "outputs": [],
   "source": [
    "# rounding (broadcast), min, max\n",
    "# TODO:"
   ]
  },
  {
   "cell_type": "code",
   "execution_count": null,
   "id": "9eb8c755",
   "metadata": {},
   "outputs": [],
   "source": [
    "#  sum, mean, std dev\n",
    "# TODO:"
   ]
  },
  {
   "cell_type": "code",
   "execution_count": null,
   "id": "19a21db3",
   "metadata": {},
   "outputs": [],
   "source": [
    "# Dot product\n",
    "# TODO:"
   ]
  },
  {
   "cell_type": "code",
   "execution_count": null,
   "id": "52c41189",
   "metadata": {},
   "outputs": [],
   "source": [
    "# Cross product\n",
    "# TODO:"
   ]
  },
  {
   "cell_type": "code",
   "execution_count": null,
   "id": "e80d957c",
   "metadata": {},
   "outputs": [],
   "source": [
    "# Derivative\n",
    "# TODO:"
   ]
  },
  {
   "cell_type": "code",
   "execution_count": null,
   "id": "8d6fd832",
   "metadata": {},
   "outputs": [],
   "source": [
    "# Gradient\n",
    "# TODO:"
   ]
  },
  {
   "cell_type": "code",
   "execution_count": null,
   "id": "ef5a5520",
   "metadata": {},
   "outputs": [],
   "source": [
    "# Random numbers\n",
    "# TODO:"
   ]
  },
  {
   "cell_type": "code",
   "execution_count": null,
   "id": "af069cf2",
   "metadata": {},
   "outputs": [],
   "source": [
    "# Joining matrixes (hstack, vstack)\n",
    "# TODO:"
   ]
  },
  {
   "cell_type": "code",
   "execution_count": null,
   "id": "e3ccb795",
   "metadata": {},
   "outputs": [],
   "source": [
    "# splitting matrixes (hsplit, vsplit)\n",
    "# TODO:"
   ]
  },
  {
   "cell_type": "code",
   "execution_count": null,
   "id": "6b51ccf7",
   "metadata": {},
   "outputs": [],
   "source": [
    "# Numpy arrays by referrence vs by value\n",
    "# TODO: https://numpy.org/devdocs/user/quickstart.html#copies-and-views"
   ]
  },
  {
   "cell_type": "code",
   "execution_count": null,
   "id": "3549e75d",
   "metadata": {},
   "outputs": [],
   "source": [
    "# np.append, np.insert, np.delete\n",
    "# TODO:"
   ]
  },
  {
   "cell_type": "code",
   "execution_count": null,
   "id": "ca33c848",
   "metadata": {},
   "outputs": [],
   "source": [
    "# Sorting\n",
    "# TODO:"
   ]
  },
  {
   "cell_type": "code",
   "execution_count": null,
   "id": "837c6482",
   "metadata": {},
   "outputs": [],
   "source": [
    "# Loading/saving from/to file \n",
    "# np.loadtxt('new_file.csv')\n",
    "# np.savetxt('asdf.csv')\n",
    "# Actually, will use pandas for this\n",
    "# TODO:"
   ]
  },
  {
   "cell_type": "code",
   "execution_count": null,
   "id": "d1b872fa",
   "metadata": {},
   "outputs": [],
   "source": [
    "# Broadcasting - cont\n",
    "# TODO: https://numpy.org/devdocs/user/basics.broadcasting.html#basics-broadcasting"
   ]
  }
 ],
 "metadata": {
  "kernelspec": {
   "display_name": "Python 3 (ipykernel)",
   "language": "python",
   "name": "python3"
  },
  "language_info": {
   "codemirror_mode": {
    "name": "ipython",
    "version": 3
   },
   "file_extension": ".py",
   "mimetype": "text/x-python",
   "name": "python",
   "nbconvert_exporter": "python",
   "pygments_lexer": "ipython3",
   "version": "3.13.2"
  }
 },
 "nbformat": 4,
 "nbformat_minor": 5
}
