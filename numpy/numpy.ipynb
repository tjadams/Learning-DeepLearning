{
 "cells": [
  {
   "cell_type": "code",
   "execution_count": 2,
   "id": "381db71e-7592-4069-9980-9956c3a3968e",
   "metadata": {},
   "outputs": [],
   "source": [
    "import numpy as np"
   ]
  },
  {
   "cell_type": "code",
   "execution_count": 10,
   "id": "659a2ac6",
   "metadata": {},
   "outputs": [
    {
     "name": "stdout",
     "output_type": "stream",
     "text": [
      "[1 2 3]\n",
      "[[1 2 3]\n",
      " [4 5 6]]\n",
      "(2, 3)\n",
      "(1, 3)\n"
     ]
    }
   ],
   "source": [
    "print(np.array([1, 2, 3]))\n",
    "print(np.array([[1, 2, 3], [4, 5, 6]]))\n",
    "\n",
    "# shape is the number of rows and columns\n",
    "# 2 rows by 3 columns\n",
    "print(np.array([[1, 2, 3], [4, 5, 6]]).shape)\n",
    "\n",
    "print(np.array([[1, 2, 3]]).shape)"
   ]
  },
  {
   "cell_type": "code",
   "execution_count": 41,
   "id": "eafc0ab2",
   "metadata": {},
   "outputs": [
    {
     "name": "stdout",
     "output_type": "stream",
     "text": [
      "6\n",
      "row size: 2\n",
      "row size - approach 2: 2\n",
      "col size: 3\n"
     ]
    }
   ],
   "source": [
    "# ARRAY CREATION, ANALYSIS\n",
    "\n",
    "x = np.array([[1, 2, 3], [4, 5, 6]])\n",
    "y = np.array([\n",
    "  [1, 2],\n",
    "  [3, 4],\n",
    "  [5, 6]\n",
    "])\n",
    "\n",
    "# 6 elements\n",
    "print(x.size)\n",
    "\n",
    "# size of individual row (2 columns)\n",
    "print(f'row size: {y[0].size}')\n",
    "print(f'row size - approach 2: {y.shape[1]}')\n",
    "\n",
    "# size of individual column (3 rows)\n",
    "print(f'col size: {y.shape[0]}')\n",
    "\n"
   ]
  },
  {
   "cell_type": "code",
   "execution_count": null,
   "id": "2d0cb42d",
   "metadata": {},
   "outputs": [],
   "source": [
    "\n",
    "# 2d array\n",
    "print(x.ndim)\n",
    "\n",
    "# 2 rows by 3 columns\n",
    "print(x.shape)\n",
    "\n",
    "# int64\n",
    "print(x.dtype)"
   ]
  },
  {
   "cell_type": "code",
   "execution_count": null,
   "id": "ba3ff4da",
   "metadata": {},
   "outputs": [],
   "source": []
  },
  {
   "cell_type": "code",
   "execution_count": null,
   "id": "57534f9f",
   "metadata": {},
   "outputs": [],
   "source": []
  },
  {
   "cell_type": "code",
   "execution_count": 17,
   "id": "5d3da6f3",
   "metadata": {},
   "outputs": [
    {
     "name": "stdout",
     "output_type": "stream",
     "text": [
      "[0. 0. 0. 0. 0.]\n",
      "[[0. 0.]\n",
      " [0. 0.]\n",
      " [0. 0.]\n",
      " [0. 0.]\n",
      " [0. 0.]]\n",
      "[1. 1. 1. 1. 1.]\n",
      "[[1. 1.]\n",
      " [1. 1.]\n",
      " [1. 1.]\n",
      " [1. 1.]\n",
      " [1. 1.]]\n",
      "[[100 100 100]\n",
      " [100 100 100]]\n"
     ]
    }
   ],
   "source": [
    "# CREATING A MATRIX QUICKLY\n",
    "\n",
    "# 1x5 (row, column)\n",
    "print(np.zeros(5))\n",
    "\n",
    "# print(np.zeros(5, 2))\n",
    "# 5 row by 2 column\n",
    "print(np.zeros((5, 2)))\n",
    "\n",
    "# Same works with ones\n",
    "print(np.ones(5))\n",
    "print(np.ones((5,2)))\n",
    "\n",
    "# 2x3 matrix with 100s as values\n",
    "print(np.full((2,3), 100))"
   ]
  },
  {
   "cell_type": "code",
   "execution_count": 19,
   "id": "3bd84450",
   "metadata": {},
   "outputs": [
    {
     "name": "stdout",
     "output_type": "stream",
     "text": [
      "1\n",
      "2\n",
      "3\n"
     ]
    },
    {
     "ename": "IndexError",
     "evalue": "index 3 is out of bounds for axis 0 with size 3",
     "output_type": "error",
     "traceback": [
      "\u001b[0;31m---------------------------------------------------------------------------\u001b[0m",
      "\u001b[0;31mIndexError\u001b[0m                                Traceback (most recent call last)",
      "Cell \u001b[0;32mIn[19], line 7\u001b[0m\n\u001b[1;32m      4\u001b[0m \u001b[38;5;28mprint\u001b[39m(x[\u001b[38;5;241m0\u001b[39m][\u001b[38;5;241m2\u001b[39m])\n\u001b[1;32m      6\u001b[0m \u001b[38;5;66;03m# Throw\u001b[39;00m\n\u001b[0;32m----> 7\u001b[0m \u001b[38;5;28mprint\u001b[39m(\u001b[43mx\u001b[49m\u001b[43m[\u001b[49m\u001b[38;5;241;43m0\u001b[39;49m\u001b[43m]\u001b[49m\u001b[43m[\u001b[49m\u001b[38;5;241;43m3\u001b[39;49m\u001b[43m]\u001b[49m)\n",
      "\u001b[0;31mIndexError\u001b[0m: index 3 is out of bounds for axis 0 with size 3"
     ]
    }
   ],
   "source": [
    "x = np.array([[1, 2, 3], [4, 5, 6]])\n",
    "print(x[0][0])\n",
    "print(x[0][1])\n",
    "print(x[0][2])\n",
    "\n",
    "# Throw\n",
    "print(x[0][3])\n"
   ]
  },
  {
   "cell_type": "code",
   "execution_count": 20,
   "id": "e0f80aa8",
   "metadata": {},
   "outputs": [
    {
     "name": "stdout",
     "output_type": "stream",
     "text": [
      "3\n",
      "2\n",
      "printing first row\n",
      "[1 2 3]\n",
      "[1 2 3]\n",
      "[1 2 3]\n",
      "[1 2 3]\n",
      "printing 2nd row\n",
      "[4 5 6]\n",
      "[4 5 6]\n",
      "printing first col\n",
      "[1 4]\n",
      "printing 2nd col\n",
      "[2 5]\n"
     ]
    }
   ],
   "source": [
    "x = np.array([\n",
    "  [1, 2, 3], \n",
    "  [4, 5, 6], \n",
    "  # [7,8,9]\n",
    "  ])\n",
    "\n",
    "# row size = num columns\n",
    "rowSize = x.shape[1];\n",
    "numCols = rowSize\n",
    "print(rowSize)\n",
    "\n",
    "# col size = num rows\n",
    "colSize = x.shape[0];\n",
    "numRows = colSize\n",
    "print(colSize)\n",
    "\n",
    "\n",
    "# print first row\n",
    "print(\"printing first row\")\n",
    "print(x[0][0:])\n",
    "print(x[0][0:rowSize])\n",
    "print(x[0][0:])\n",
    "print(x[0, :])\n",
    "      \n",
    "# second row\n",
    "print(\"printing 2nd row\")\n",
    "print(x[1][:])\n",
    "print(x[1, :])\n",
    "\n",
    "\n",
    "# print first column\n",
    "print(\"printing first col\")\n",
    "# wrong: print(x[0:numRows][0])\n",
    "# wrong: print(x[:][1])\n",
    "# wrong: print(x[0][:])\n",
    "print(x[:, 0])\n",
    "\n",
    "# 2nd column\n",
    "print(\"printing 2nd col\")\n",
    "print(x[:, 1])\n"
   ]
  },
  {
   "cell_type": "code",
   "execution_count": null,
   "id": "2473099f",
   "metadata": {},
   "outputs": [],
   "source": []
  }
 ],
 "metadata": {
  "kernelspec": {
   "display_name": "Python 3 (ipykernel)",
   "language": "python",
   "name": "python3"
  },
  "language_info": {
   "codemirror_mode": {
    "name": "ipython",
    "version": 3
   },
   "file_extension": ".py",
   "mimetype": "text/x-python",
   "name": "python",
   "nbconvert_exporter": "python",
   "pygments_lexer": "ipython3",
   "version": "3.13.2"
  }
 },
 "nbformat": 4,
 "nbformat_minor": 5
}
