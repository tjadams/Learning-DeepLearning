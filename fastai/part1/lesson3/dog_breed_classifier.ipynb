{
 "cells": [
  {
   "cell_type": "code",
   "execution_count": null,
   "metadata": {
    "vscode": {
     "languageId": "plaintext"
    }
   },
   "outputs": [],
   "source": [
    "%pip install -Uqq fastai\n",
    "%pip install -Uqq gradio\n",
    "#|default_exp app"
   ]
  },
  {
   "cell_type": "code",
   "execution_count": null,
   "metadata": {},
   "outputs": [],
   "source": [
    "#|export\n",
    "from fastai.vision.all import *\n",
    "import gradio as gr\n",
    "\n",
    "def is_cat(x): return x[0].isupper()"
   ]
  },
  {
   "cell_type": "code",
   "execution_count": null,
   "metadata": {},
   "outputs": [],
   "source": [
    "path = untar_data(URLs.PETS)/'images'\n",
    "\n",
    "dls = ImageDataLoaders.from_name_func('.',\n",
    "    get_image_files(path), valid_pct=0.2, seed=42,\n",
    "    label_func=is_cat,\n",
    "    item_tfms=Resize(192, method='squish'),\n",
    "    # Passing in the Mac apple silicon device, instead of CPU\n",
    "    device=default_device(1)\n",
    "    )"
   ]
  },
  {
   "cell_type": "code",
   "execution_count": null,
   "metadata": {},
   "outputs": [],
   "source": [
    "learn = vision_learner(dls, resnet18, metrics=error_rate)\n",
    "learn.fine_tune(3)"
   ]
  },
  {
   "cell_type": "code",
   "execution_count": null,
   "metadata": {},
   "outputs": [],
   "source": [
    "learn.export('model.pkl')"
   ]
  },
  {
   "cell_type": "code",
   "execution_count": null,
   "metadata": {},
   "outputs": [],
   "source": [
    "#|export\n",
    "learn = load_learner('model.pkl')"
   ]
  },
  {
   "cell_type": "code",
   "execution_count": null,
   "metadata": {},
   "outputs": [],
   "source": [
    "#|export\n",
    "# Below is fast.ai's code for gradio v3 but it's a few years old, and now there's gradio v5\n",
    "# image = gr.inputs.Image(shape=(192, 192))\n",
    "# label = gr.outputs.Label()\n",
    "# examples = ['dog.jpg', 'cat.jpg', 'dunno.jpg']\n",
    "\n",
    "# intf = gr.Interface(fn=classify_image, inputs=image, outputs=label, examples=examples)\n",
    "# intf.launch(inline=False)\n",
    "\n",
    "# Here's my gradio v5 fix\n",
    "with gr.Blocks() as demo:\n",
    "  gr.Markdown(\"Upload an image to see if it's a cat or a dog\")\n",
    "  image = gr.Image(height=192, width=192)\n",
    "  button = gr.Button(\"Classify\")\n",
    "  label = gr.Label()\n",
    "\n",
    "  button.click(fn=classify_image, inputs=image, outputs=label)\n",
    "\n",
    "demo.launch(inline=False)\n"
   ]
  },
  {
   "cell_type": "code",
   "execution_count": null,
   "metadata": {},
   "outputs": [],
   "source": [
    "# Preparing the Gradio code (cells prefixed with |export) for being deployed to Hugging Face\n",
    "\n",
    "# This part is from fast.ai's code but it's a few years old, updated it below\n",
    "# from nbdev.export import notebook2script\n",
    "# notebook2script('app.ipynb')\n",
    "\n",
    "# My fix\n",
    "import nbdev\n",
    "nbdev.export.nb_export('app.ipynb', 'generated', name='huggingface_app')\n",
    "print('Export successful')\n"
   ]
  }
 ],
 "metadata": {
  "language_info": {
   "name": "python"
  }
 },
 "nbformat": 4,
 "nbformat_minor": 2
}
