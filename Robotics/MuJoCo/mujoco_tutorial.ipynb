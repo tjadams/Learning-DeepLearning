{
  "cells": [
    {
      "cell_type": "code",
      "execution_count": 17,
      "metadata": {},
      "outputs": [
        {
          "name": "stdout",
          "output_type": "stream",
          "text": [
            "\n",
            "CondaError: Run 'conda init' before 'conda activate'\n",
            "\n"
          ]
        }
      ],
      "source": [
        "# !conda activate robosuite"
      ]
    },
    {
      "cell_type": "code",
      "execution_count": 3,
      "metadata": {
        "id": "Xqo7pyX-n72M"
      },
      "outputs": [
        {
          "name": "stdout",
          "output_type": "stream",
          "text": [
            "env: MUJOCO_GL=\n",
            "Checking that the installation succeeded:\n",
            "Installation successful.\n"
          ]
        }
      ],
      "source": [
        "import os\n",
        "import subprocess\n",
        "\n",
        "\n",
        "# Configure MuJoCo to use the EGL rendering backend (requires GPU)\n",
        "# print('Setting environment variable to use GPU rendering:')\n",
        "%env MUJOCO_GL=\n",
        "\n",
        "# Check if installation was succesful.\n",
        "try:\n",
        "  print('Checking that the installation succeeded:')\n",
        "  import mujoco\n",
        "  mujoco.MjModel.from_xml_string('<mujoco/>')\n",
        "except Exception as e:\n",
        "  raise e from RuntimeError(\n",
        "      'Something went wrong during installation. Check the shell output above '\n",
        "      'for more information.\\n'\n",
        "      'If using a hosted Colab runtime, make sure you enable GPU acceleration '\n",
        "      'by going to the Runtime menu and selecting \"Choose runtime type\".')\n",
        "\n",
        "print('Installation successful.')\n"
      ]
    },
    {
      "cell_type": "code",
      "execution_count": null,
      "metadata": {},
      "outputs": [],
      "source": [
        "# Other imports and helper functions\n",
        "import time\n",
        "import itertools\n",
        "import numpy as np\n",
        "\n",
        "# Graphics and plotting.\n",
        "# print('Installing mediapy:')\n",
        "# !command -v ffmpeg >/dev/null || (apt update && apt install -y ffmpeg)\n",
        "# !pip install -q mediapy\n",
        "import mediapy as media\n",
        "import matplotlib.pyplot as plt\n",
        "\n",
        "# More legible printing from numpy.\n",
        "np.set_printoptions(precision=3, suppress=True, linewidth=100)\n",
        "\n",
        "from IPython.display import clear_output\n",
        "clear_output()"
      ]
    },
    {
      "cell_type": "markdown",
      "metadata": {
        "id": "t0CF6Gvkt_Cw"
      },
      "source": [
        "# MuJoCo basics\n",
        "\n",
        "We begin by defining and loading a simple model:"
      ]
    },
    {
      "cell_type": "code",
      "execution_count": 4,
      "metadata": {
        "id": "3KJVqak6xdJa"
      },
      "outputs": [],
      "source": [
        "xml = \"\"\"\n",
        "<mujoco>\n",
        "  <worldbody>\n",
        "    <geom name=\"red_box\" type=\"box\" size=\".2 .2 .2\" rgba=\"1 0 0 1\"/>\n",
        "    <geom name=\"green_sphere\" pos=\".2 .2 .2\" size=\".1\" rgba=\"0 1 0 1\"/>\n",
        "  </worldbody>\n",
        "</mujoco>\n",
        "\"\"\"\n",
        "model = mujoco.MjModel.from_xml_string(xml)"
      ]
    },
    {
      "cell_type": "markdown",
      "metadata": {
        "id": "slhf39lGxvDI"
      },
      "source": [
        "The `xml` string is written in MuJoCo's [MJCF](http://www.mujoco.org/book/modeling.html), which is an [XML](https://en.wikipedia.org/wiki/XML#Key_terminology)-based modeling language.\n",
        "  - The only required element is `<mujoco>`. The smallest valid MJCF model is `<mujoco/>` which is a completely empty model.\n",
        "  - All physical elements live inside the `<worldbody>` which is always the top-level body and constitutes the global origin in Cartesian coordinates.\n",
        "  - We define two geoms in the world named `red_box` and `green_sphere`.\n",
        "  - **Question:** The `red_box` has no position, the `green_sphere` has no type, why is that?\n",
        "    - **Answer:** MJCF attributes have *default values*. The default position is `0 0 0`, the default geom type is `sphere`. The MJCF language is described in the documentation's [XML Reference chapter](https://mujoco.readthedocs.io/en/latest/XMLreference.html).\n",
        "\n",
        "The `from_xml_string()` method invokes the model compiler, which creates a binary `mjModel` instance."
      ]
    },
    {
      "cell_type": "markdown",
      "metadata": {
        "id": "gf9h_wi9weet"
      },
      "source": [
        "## mjModel\n",
        "\n",
        "MuJoCo's `mjModel`, contains the *model description*, i.e., all quantities which *do not change over time*. The complete description of `mjModel` can be found at the end of the header file [`mjmodel.h`](https://github.com/google-deepmind/mujoco/blob/main/include/mujoco/mjmodel.h). Note that the header files contain short, useful inline comments, describing each field.\n",
        "\n",
        "Examples of quantities that can be found in `mjModel` are `ngeom`, the number of geoms in the scene and `geom_rgba`, their respective colors:"
      ]
    },
    {
      "cell_type": "code",
      "execution_count": 5,
      "metadata": {
        "id": "F40Pe6DY3Q0g"
      },
      "outputs": [
        {
          "data": {
            "text/plain": [
              "2"
            ]
          },
          "execution_count": 5,
          "metadata": {},
          "output_type": "execute_result"
        }
      ],
      "source": [
        "model.ngeom"
      ]
    },
    {
      "cell_type": "code",
      "execution_count": 6,
      "metadata": {
        "id": "MOIJG9pzx8cA"
      },
      "outputs": [
        {
          "data": {
            "text/plain": [
              "array([[1., 0., 0., 1.],\n",
              "       [0., 1., 0., 1.]], dtype=float32)"
            ]
          },
          "execution_count": 6,
          "metadata": {},
          "output_type": "execute_result"
        }
      ],
      "source": [
        "model.geom_rgba"
      ]
    },
    {
      "cell_type": "markdown",
      "metadata": {
        "id": "bzcLjdY23Kvp"
      },
      "source": [
        "## Named access\n",
        "\n",
        "The MuJoCo Python bindings provide convenient [accessors](https://mujoco.readthedocs.io/en/latest/python.html#named-access) using names. Calling the `model.geom()` accessor without a name string generates a convenient error that tells us what the valid names are."
      ]
    },
    {
      "cell_type": "code",
      "execution_count": null,
      "metadata": {
        "id": "9AuTwbLFyJxQ"
      },
      "outputs": [],
      "source": [
        "try:\n",
        "  model.geom()\n",
        "except KeyError as e:\n",
        "  print(e)"
      ]
    },
    {
      "cell_type": "markdown",
      "metadata": {
        "id": "qkfLK3h2zrqr"
      },
      "source": [
        "Calling the named accessor without specifying a property will tell us what all the valid properties are:"
      ]
    },
    {
      "cell_type": "code",
      "execution_count": null,
      "metadata": {
        "id": "9X95TlWnyEEw"
      },
      "outputs": [],
      "source": [
        "model.geom('green_sphere')"
      ]
    },
    {
      "cell_type": "markdown",
      "metadata": {
        "id": "mS9qDLevKsJq"
      },
      "source": [
        "Let's read the `green_sphere`'s rgba values:"
      ]
    },
    {
      "cell_type": "code",
      "execution_count": null,
      "metadata": {
        "id": "xsBlJAV7zpHb"
      },
      "outputs": [],
      "source": [
        "model.geom('green_sphere').rgba"
      ]
    },
    {
      "cell_type": "markdown",
      "metadata": {
        "id": "8a8hswjjKyIa"
      },
      "source": [
        "This functionality is a convenience shortcut for MuJoCo's [`mj_name2id`](https://mujoco.readthedocs.io/en/latest/APIreference.html?highlight=mj_name2id#mj-name2id) function:"
      ]
    },
    {
      "cell_type": "code",
      "execution_count": 9,
      "metadata": {
        "id": "Ng92hNUoKnVq"
      },
      "outputs": [
        {
          "data": {
            "text/plain": [
              "array([0., 1., 0., 1.], dtype=float32)"
            ]
          },
          "execution_count": 9,
          "metadata": {},
          "output_type": "execute_result"
        }
      ],
      "source": [
        "id = mujoco.mj_name2id(model, mujoco.mjtObj.mjOBJ_GEOM, 'green_sphere')\n",
        "model.geom_rgba[id, :]"
      ]
    },
    {
      "cell_type": "markdown",
      "metadata": {
        "id": "5WL_SaJPLl3r"
      },
      "source": [
        "Similarly, the read-only `id` and `name` properties can be used to convert from id to name and back:"
      ]
    },
    {
      "cell_type": "code",
      "execution_count": null,
      "metadata": {
        "id": "2CbGSmRZeE5p"
      },
      "outputs": [],
      "source": [
        "print('id of \"green_sphere\": ', model.geom('green_sphere').id)\n",
        "print('name of geom 1: ', model.geom(1).name)\n",
        "print('name of body 0: ', model.body(0).name)"
      ]
    },
    {
      "cell_type": "markdown",
      "metadata": {
        "id": "3RIizubaL_du"
      },
      "source": [
        "Note that the 0th body is always the `world`. It cannot be renamed.\n",
        "\n",
        "The `id` and `name` attributes are useful in Python comprehensions:"
      ]
    },
    {
      "cell_type": "code",
      "execution_count": null,
      "metadata": {
        "id": "m3MtIE5F1K7s"
      },
      "outputs": [],
      "source": [
        "[model.geom(i).name for i in range(model.ngeom)]"
      ]
    },
    {
      "cell_type": "markdown",
      "metadata": {
        "id": "t5hY0fyXFLcf"
      },
      "source": [
        "## `mjData`\n",
        "`mjData` contains the *state* and quantities that depend on it. The state is made up of time, [generalized](https://en.wikipedia.org/wiki/Generalized_coordinates) positions and generalized velocities. These are respectively `data.time`, `data.qpos` and `data.qvel`. In order to make a new `mjData`, all we need is our `mjModel`"
      ]
    },
    {
      "cell_type": "code",
      "execution_count": 8,
      "metadata": {
        "id": "FV2Hy6m948nr"
      },
      "outputs": [],
      "source": [
        "data = mujoco.MjData(model)"
      ]
    },
    {
      "cell_type": "markdown",
      "metadata": {
        "id": "-KmNuvlJ46u0"
      },
      "source": [
        "`mjData` also contains *functions of the state*, for example the Cartesian positions of objects in the world frame. The (x, y, z) positions of our two geoms are in `data.geom_xpos`:"
      ]
    },
    {
      "cell_type": "code",
      "execution_count": null,
      "metadata": {
        "id": "CPwDcAQ0-uUE"
      },
      "outputs": [],
      "source": [
        "print(data.geom_xpos)"
      ]
    },
    {
      "cell_type": "markdown",
      "metadata": {
        "id": "Sjst5xGXX3sr"
      },
      "source": [
        "Wait, why are both of our geoms at the origin? Didn't we offset the green sphere? The answer is that derived quantities in `mjData` need to be explicitly propagated (see [below](#scrollTo=QY1gpms1HXeN)). In our case, the minimal required function is [`mj_kinematics`](https://mujoco.readthedocs.io/en/latest/APIreference.html#mj-kinematics), which computes global Cartesian poses for all objects (excluding cameras and lights)."
      ]
    },
    {
      "cell_type": "code",
      "execution_count": null,
      "metadata": {
        "id": "tfe0YeZRYNTr"
      },
      "outputs": [],
      "source": [
        "mujoco.mj_kinematics(model, data)\n",
        "print('raw access:\\n', data.geom_xpos)\n",
        "\n",
        "# MjData also supports named access:\n",
        "print('\\nnamed access:\\n', data.geom('green_sphere').xpos)"
      ]
    },
    {
      "cell_type": "markdown",
      "metadata": {
        "id": "eU7uWNsTwmcZ"
      },
      "source": [
        "# Basic rendering, simulation, and animation\n",
        "\n",
        "In order to render we'll need to instantiate a `Renderer` object and call its `render` method.\n",
        "\n",
        "We'll also reload our model to make the colab's sections independent."
      ]
    },
    {
      "cell_type": "code",
      "execution_count": 13,
      "metadata": {
        "id": "xK3c0-UDxMrN"
      },
      "outputs": [
        {
          "data": {
            "text/html": [
              "<table class=\"show_images\" style=\"border-spacing:0px;\"><tr><td style=\"padding:1px;\"><img width=\"320\" height=\"240\" style=\"image-rendering:auto; object-fit:cover;\" src=\"data:image/png;base64,iVBORw0KGgoAAAANSUhEUgAAAUAAAADwCAIAAAD+Tyo8AAAA9klEQVR4nO3BAQEAAACCIP+vbkhAAQAAAAAAAAAAAAAAAAAAAAAAAAAAAAAAAAAAAAAAAAAAAAAAAAAAAAAAAAAAAAAAAAAAAAAAAAAAAAAAAAAAAAAAAAAAAAAAAAAAAAAAAAAAAAAAAAAAAAAAAAAAAAAAAAAAAAAAAAAAAAAAAAAAAAAAAAAAAAAAAAAAAAAAAAAAAAAAAAAAAAAAAAAAAAAAAAAAAAAAAAAAAAAAAAAAAAAAAAAAAAAAAAAAAAAAAAAAAAAAAAAAAAAAAAAAAAAAAAAAAAAAAAAAAAAAAAAAAAAAAAAAAAAAAAAAAAAAANChAYUdAAFQhi3xAAAAAElFTkSuQmCC\"/></td></tr></table>"
            ],
            "text/plain": [
              "<IPython.core.display.HTML object>"
            ]
          },
          "metadata": {},
          "output_type": "display_data"
        }
      ],
      "source": [
        "xml = \"\"\"\n",
        "<mujoco>\n",
        "  <worldbody>\n",
        "    <geom name=\"red_box\" type=\"box\" size=\".2 .2 .2\" rgba=\"1 0 0 1\"/>\n",
        "    <geom name=\"green_sphere\" pos=\".2 .2 .2\" size=\".1\" rgba=\"0 1 0 1\"/>\n",
        "  </worldbody>\n",
        "</mujoco>\n",
        "\"\"\"\n",
        "# Make model and data\n",
        "model = mujoco.MjModel.from_xml_string(xml)\n",
        "data = mujoco.MjData(model)\n",
        "\n",
        "# Make renderer, render and show the pixels\n",
        "renderer = mujoco.Renderer(model)\n",
        "media.show_image(renderer.render())"
      ]
    },
    {
      "cell_type": "markdown",
      "metadata": {
        "id": "ZkFSHeYGxlT5"
      },
      "source": [
        "Hmmm, why the black pixels?\n",
        "\n",
        "**Answer:** For the same reason as above, we first need to propagate the values in `mjData`. This time we'll call [`mj_forward`](https://mujoco.readthedocs.io/en/latest/APIreference/APIfunctions.html#mj-forward), which invokes the entire pipeline up to the computation of accelerations i.e., it computes $\\dot x = f(x)$, where $x$ is the state. This function does more than we actually need, but unless we care about saving computation time, it's good practice to call `mj_forward` since then we know we are not missing anything.\n",
        "\n",
        "We also need to update the `mjvScene` which is an object held by the renderer describing the visual scene. We'll later see that the scene can include visual objects which are not part of the physical model."
      ]
    },
    {
      "cell_type": "code",
      "execution_count": 14,
      "metadata": {
        "id": "pvh47r97huS4"
      },
      "outputs": [
        {
          "data": {
            "text/html": [
              "<table class=\"show_images\" style=\"border-spacing:0px;\"><tr><td style=\"padding:1px;\"><img width=\"320\" height=\"240\" style=\"image-rendering:auto; object-fit:cover;\" src=\"data:image/png;base64,iVBORw0KGgoAAAANSUhEUgAAAUAAAADwCAIAAAD+Tyo8AAANsUlEQVR4nO3d75PkRB3H8W8ms3uAol4h3i6FWFqKV3WiDv8F/hE+4A/zz+Cpz+SBWmtRaAGCIiqzQHEISMnuziRWdyc9PUknmcz+SPf0+3Wpudm9/ZGb5NPf7s6PEQEAAAAAAAAAAAAAAAAAAEhWNvUKIG3fFrnv2w0/EylFPp9knWJCgHHnnhF5WuSBfpLrZaYXd2csRQqRK5FPRN4ReTzh6gaNAOOunIoci/xU5J6Oq41u7uyJdn8s6yeFyEovH4m8KfLFJKseLgKM23eqQ/uifjzWO52Nrim8ZhHnSeksogO81o/nIn/WHWxoBBi37Ae66h7Vi+0wuz1nt/zaALuPhQ6weVyL/EPkLZH/TPZ/CgcBxq05EXmkq+6RyFwn9qgOrV2y7QwbmdOFNr3oRoZXIhcib4i8K4mbT70COFCPdICf1LuYXWb60YTW5rZdhK3SybP5lsIZPC/0k7clZQQYN+2bIr8QeaquvabbbBfTeXZz6y7tClzWH5oMm2psv/6X+msSzjBdaNyob4i8rAvvkZ6vsp1nd9bK7T83ZrAau6QdA7uLHQmv6smt90V+J2kiwLg5z+r5qid1dI/rbvORL7ruANidfG7vj40MF/ViMryux8MfiLwuCaILjRvyjMiPRZ6oC2/ujHsbB43a01e7B9hoH3N6XuQnIn+V1BBg3IQn6/TaPrN5tMXWfd41AHbHwI0ZrExXXakrtjtHLfrDY5Gf6yeJzUub1wO4nhfqkzTshHN7uNtIb7s73ZiUboS83QPPnSdzvQIvSWoIMK7tu3o5bs02e0tuVwWeSZZl/so8mORZ/Uuf0B3plNCFxvXMRB62Zpu70tu9qPSaP0YmZVluHU/KtqeybJjLOsBmcuslPa31d0kEFRjX8yP96E5WuXWyI71ZlmUztajCm+snrZJrIu35IdJRkOd6BY51g5IMKjCu4b5e3FM1uga03YV3Ptc7YSZlXW3Nk/VqrTJsPnRnrbwZLuuTtDI9o/aCPrCUAAKMa3heVzw7Ct0lt1L3ls1jnuV5ripwnVs3rEVRSKm/cvvzWydjZXWAzXPTiNyTRBBg7Msc8vUOehvHhDpGvJLJTJsfzW161dC3tlqtyqI0/5RJthkV28esVZBNR+BnqRwTJsDY1wOn/LZPyXBPtHDY6Jo55zzPZ7nKsC3Cmw6z/t7VamU+LKXMsjrDjfMus1aGReQ5kQ/l4BFg7OVYj37dzrO32Lo6yq+S6yKsbXrLmVOHpVQVONOP5t/tBHVW/3zbiJhOwVOSAgKMvdi5K3scw5vexui3TptKsajpq1xTRThXM9FVR9rpRW8yXNYV2Ctzfp158jCJs7IIMPbyHf3YPsAzdKWMia6twLmO8Dyfz3O1K5rqWs1Cr9UstHtseEt7Xlqc1chbp1seKI4DYy9HO3SYm5+oqrA5YaOavsrnFRPlWf1HleR8K/ONn+OVOU9mdStz0KjAGO9efeZG1yVE7esNqiBuopjPqvkrm149At4Mg9f5Op/lK1nVp2hVHew+pfNkpm86fej3zSLAGO9b9VEcqyvDvsSZDNezV7oLPZ/P8pmZxKoynFUJz/NcndFRp7c6mNSlTK5zSYAxnrlGP9u5GDYu6DXhzHM3w7PZzETXZNiUaNud3rpJpfsrytYNaBNDgDHevdag15sf732tdEzXxXq9WpdH6rBQlmVH8yPzBeY4sFqK0h0Mz/KZOiurpg4omZiXzq9uxLjUXehDR4Cxl65y52Zp+0MbuaxQ0b+8uLTHkLbOpqxP2zCTWNWY2Xyj6T/3NBZl/cTc+y4BBBjjNW6L0a6E9vOt8uuG+eryymQ4z/WEcxXV6vuLophls823FNslt915LutHex/pBDJMgPe00G8YkqbXzF89cTLX67pfk20X4VJdfLS6Wl3lKsNqlOvMhFWncxRqOKwybC70tT/Ze6vKcvuT5ssSeAcWAryPUx3gZC0ey9nTvVlqD0cbdVhdZVTKTC4uLtQ5WFk9yexceKTiazKsJ7EGKnDp3LDSfLgWuZSDR4Cxl0ata3/e/qvpctcZVkW40DfQ0UVYCtWRruJdDXnVFFV1XZIOcFWHe/rSRWsxP/BLOXgEeB+LxP/7n8n5fVkeO6PNotV/7iqSIiqf1kxduG9mmE35Ned71AeUNhmukt9oOIrtEa9d1vq9hTfz1geLAGMfi49ked8XpO7cbkqxmSXWVEEV9aeyfWhqE93GT+vKcOHc9v0TfcP3Q5fG6So36lS/a1fiTr6SxYcd+ekalDqfVHVVL5u8bT8xhbeze9zz4bp+y5WVpIAKjD0tluqin7MfbgepcXmDdzysqfQ2eG/s7q29XV3otRNg7okFr8QHwK7Fv+T0S3ntZacAei8JdqeynK+pzmp2T6v2vr3oLhku6jc6s8sXkgK60KPRf3adfC6v/lZOH3d3dNe9x37Wure8rnrUmyfO84EOc7GdW7N8LIkgwOMke/JGv1f+KIt3fePVjiGuXTZBtXHVX9OOtGc8vO5I79ep9J95e9HRFnShe529KGcPfe+N5N53tn3TWe+bA7tdaNuRdke8xXZur/Ryqa8B/r0kggCP8yu60Ds4eyhnjzrexMib4fYMViO97ZOcG+8SXOiDRpe6/L6VUBeaAI/z6tQrEJHzZ1WMlw+G3oXQe4/YdnrbFXjt9KKvdIAvRJYib0s6CPAIpyKvTL0OMTr/npy9JMsT3/sMdpXf9lVN7fM31vVBI3Pa84X+5OtJnAJtEeAR6D9f0/kD9bg8kXP9Oi6f05/1joG7buhh56LX20d9TYD/ndD7EhoEeAQCfONMko2lnuI/P9W9bqNxnWDRUX6vdHq/FvmDk/w0EOARGADfjd/8Wv/Vvky/MX21qmN8IfKVyBs6yYnhOPCuOAJ8ZxZ/qsNpH9vLVf34tU7v+ymml1MpR+Dw792x52+5M1iN+Wdz1Hcl8j992sankiYqMIKzeNNXgd1TNS6co74f6CsHU0UF3gmXEN61lW/6yl60YDrPa5H3krjxVQ8qMEK0+EudUlNyG4uZc34n9fRSgXfFAPiuFTq67fJrjhhdivxT5L9Tr2QACPBO6D/fscV7cvb91hULK53ecwrvBgEexgGkSZx+LMunW+n9OIl7Te6OACNQJ49lOXcuFSS6PgR4GAPgaVzpUe6nuvZ+NfXKhIpZ6GEMgCex+FTkbyKfk94+BHgAA+AJ8eIPIsADKL8T4sUfRIAHUAQmxIs/iAAPoAhMiBd/EAHuQwWYHIcA+hHgPuw9CBwBRtDoBPUjwJ24hDAEbIJ+BBihYyDTgwB3Yr9B+AgwQkdL2oMA+zEARhQIMCJAEe5CgP3YYxAFAuxH/zkotKddCLAHJw8EiI3iRYA9KL8BYqN4EWAPGvsAsVG8CLAHjX2A2CheBLiJlj5YbJo2AtzEhGewKMJtBBjRoAK3EeAmmvlgsWnaCPAW2vjAMcBpIMBb2D8QFwKMmNDCNhDgDS4hRHQIMCJDEXYR4A32DESHAG/Qf44C7ayLAFc4gBQRNpZFgBEf+koWAa7QMUOMCHCFRj0itLYWAVYYU0WHTWYQYIXyGx02mUGAFZrz6LDJDAKs0JxHh01mEGDa8lgtpl6BEBBg9gNEjAAjVqdTr0AICDCjqVidTL0CIUg9wLTiUVtI6lIPMHsAopZ6gBG1haQu6QBzDx3ELukA4wAsJGlJBzjxbY8DkHSA6T8fgIUkLd0AcwDpYJxKutINMA7GiaQr3QCnvNUPzLmkK90Ap7zVcTDSDfBy6hXATVlKutINsIicTb0CuL5zSVrSAcYBOJOkJR3gxLc9DkDSAUbsztMeABNgijDilnqAEbUzSV3qAWYPiNpSUpd6gDkOEa/zqVcgBASYVhwRI8CI1dnUKxACAsx+EKvl1CsQAgKsMJqKDpvMIMAKbXl02GQGAVZozqPDJjMIsEJzHh02mUGAK0xlRYTyaxFgxIfW1iLAFRp1xIgAVxhTRYSNZRHgDTpmUaCv5CLAiAztrIsAb7BnIDoEGDHhHjoNBHgLRRhxIcCICS1sAwHewv4ROPrPDQS4iaMUwWLTtBHgJtp4RIQAN9HMB4sBThsBbqICB4tN00aAPSjCAWKjeBFgD1r6ALFRvAiwB419gNgoXgTYg8Y+QGwULwLsx4RnUCi/XQgwIkB72oUA+7HHIAoEGKHjEsIeBLgTRRjhI8AIHS1pDwLcif0G4SPAfTh6MTkGwP0IcB92HQSOACNoDGT6EeA+7D2ToxPUjwAPYBg8IV78QQR4ABVgQrz4gwjwAIrAhHjxBxHgARSBCfHiDyLAw5jKmgTldxcEGIGi3dwFAR5GKUCwCPAwRmKT4GXfBQHeCd25O0avZ0cEGCGixdwRAd4J+xPCRIARHC4h3B0B3hVFGAEiwAgObeXuCPCu2KvuDP3n3RHgETi2cQd4kUchwCNQGRAaAoywMFQZhQCPwL51B+jmjEKAx2GEdqt4ecciwONQH24VL+9YBHgcSsSt4uUdiwCPQ4m4Vby8YxHg0ZjKuiWU3z0QYISClnEPBHg0CgXCQYBHY5x2G7iEcD8EeB909hAIAowg0CbuhwDvg70NgZhPvQKxYirrBi0ZAAMAAAAAAAAAAAAAAAAAAAAAAAAAAAAAAAAAAAAAAAAAAAAAAAAAAAAAAAAAAAAAAAAAAAAAAAAAAEhq/g+NZFYCME/9DwAAAABJRU5ErkJggg==\"/></td></tr></table>"
            ],
            "text/plain": [
              "<IPython.core.display.HTML object>"
            ]
          },
          "metadata": {},
          "output_type": "display_data"
        }
      ],
      "source": [
        "mujoco.mj_forward(model, data)\n",
        "renderer.update_scene(data)\n",
        "\n",
        "media.show_image(renderer.render())"
      ]
    },
    {
      "cell_type": "markdown",
      "metadata": {
        "id": "6oDW1dOUifw6"
      },
      "source": [
        "This worked, but this image is a bit dark. Let's add a light and re-render."
      ]
    },
    {
      "cell_type": "code",
      "execution_count": 15,
      "metadata": {
        "id": "iqzJj2NIr_2V"
      },
      "outputs": [
        {
          "data": {
            "text/html": [
              "<table class=\"show_images\" style=\"border-spacing:0px;\"><tr><td style=\"padding:1px;\"><img width=\"320\" height=\"240\" style=\"image-rendering:auto; object-fit:cover;\" src=\"data:image/png;base64,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\"/></td></tr></table>"
            ],
            "text/plain": [
              "<IPython.core.display.HTML object>"
            ]
          },
          "metadata": {},
          "output_type": "display_data"
        }
      ],
      "source": [
        "xml = \"\"\"\n",
        "<mujoco>\n",
        "  <worldbody>\n",
        "    <light name=\"top\" pos=\"0 0 1\"/>\n",
        "    <geom name=\"red_box\" type=\"box\" size=\".2 .2 .2\" rgba=\"1 0 0 1\"/>\n",
        "    <geom name=\"green_sphere\" pos=\".2 .2 .2\" size=\".1\" rgba=\"0 1 0 1\"/>\n",
        "  </worldbody>\n",
        "</mujoco>\n",
        "\"\"\"\n",
        "model = mujoco.MjModel.from_xml_string(xml)\n",
        "data = mujoco.MjData(model)\n",
        "renderer = mujoco.Renderer(model)\n",
        "\n",
        "mujoco.mj_forward(model, data)\n",
        "renderer.update_scene(data)\n",
        "\n",
        "media.show_image(renderer.render())"
      ]
    },
    {
      "cell_type": "markdown",
      "metadata": {
        "id": "HS4K38Eirww9"
      },
      "source": [
        "Much better!\n",
        "\n",
        "Note that all values in the `mjModel` instance are writable. While it's generally not recommended to do this but rather to change the values in the XML, because it's easy to make an invalid model, some values are safe to write into, for example colors:"
      ]
    },
    {
      "cell_type": "code",
      "execution_count": 16,
      "metadata": {
        "id": "GBNcQVYJrt2h"
      },
      "outputs": [
        {
          "data": {
            "text/html": [
              "<table class=\"show_images\" style=\"border-spacing:0px;\"><tr><td style=\"padding:1px;\"><img width=\"320\" height=\"240\" style=\"image-rendering:auto; object-fit:cover;\" src=\"data:image/png;base64,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\"/></td></tr></table>"
            ],
            "text/plain": [
              "<IPython.core.display.HTML object>"
            ]
          },
          "metadata": {},
          "output_type": "display_data"
        }
      ],
      "source": [
        "# Run this cell multiple times for different colors\n",
        "model.geom('red_box').rgba[:3] = np.random.rand(3)\n",
        "renderer.update_scene(data)\n",
        "media.show_image(renderer.render())"
      ]
    },
    {
      "cell_type": "markdown",
      "metadata": {
        "id": "-P95E-QHizQq"
      },
      "source": [
        "# Simulation\n",
        "\n",
        "Now let's simulate and make a video. We'll use MuJoCo's main high level function `mj_step`, which steps the state $x_{t+h} = f(x_t)$.\n",
        "\n",
        "Note that in the code block below we are *not* rendering after each call to `mj_step`. This is because the default timestep is 2ms, and we want a 60fps video, not 500fps."
      ]
    },
    {
      "cell_type": "code",
      "execution_count": null,
      "metadata": {
        "id": "NdVnHOYisiKl"
      },
      "outputs": [],
      "source": [
        "duration = 3.8  # (seconds)\n",
        "framerate = 60  # (Hz)\n",
        "\n",
        "# Simulate and display video.\n",
        "frames = []\n",
        "mujoco.mj_resetData(model, data)  # Reset state and time.\n",
        "while data.time < duration:\n",
        "  mujoco.mj_step(model, data)\n",
        "  if len(frames) < data.time * framerate:\n",
        "    renderer.update_scene(data)\n",
        "    pixels = renderer.render()\n",
        "    frames.append(pixels)\n",
        "media.show_video(frames, fps=framerate)"
      ]
    },
    {
      "cell_type": "markdown",
      "metadata": {
        "id": "tYN4sL9RnsCU"
      },
      "source": [
        "Hmmm, the video is playing, but nothing is moving, why is that?\n",
        "\n",
        "This is because this model has no [degrees of freedom](https://www.google.com/url?sa=D&q=https%3A%2F%2Fen.wikipedia.org%2Fwiki%2FDegrees_of_freedom_(mechanics)) (DoFs). The things that move (and which have inertia) are called *bodies*. We add DoFs by adding *joints* to bodies, specifying how they can move with respect to their parents. Let's make a new body that contains our geoms, add a hinge joint and re-render, while visualizing the joint axis using the visualization option object `MjvOption`."
      ]
    },
    {
      "cell_type": "code",
      "execution_count": null,
      "metadata": {
        "id": "LbWf84VYst5m"
      },
      "outputs": [],
      "source": [
        "xml = \"\"\"\n",
        "<mujoco>\n",
        "  <worldbody>\n",
        "    <light name=\"top\" pos=\"0 0 1\"/>\n",
        "    <body name=\"box_and_sphere\" euler=\"0 0 -30\">\n",
        "      <joint name=\"swing\" type=\"hinge\" axis=\"1 -1 0\" pos=\"-.2 -.2 -.2\"/>\n",
        "      <geom name=\"red_box\" type=\"box\" size=\".2 .2 .2\" rgba=\"1 0 0 1\"/>\n",
        "      <geom name=\"green_sphere\" pos=\".2 .2 .2\" size=\".1\" rgba=\"0 1 0 1\"/>\n",
        "    </body>\n",
        "  </worldbody>\n",
        "</mujoco>\n",
        "\"\"\"\n",
        "model = mujoco.MjModel.from_xml_string(xml)\n",
        "data = mujoco.MjData(model)\n",
        "renderer = mujoco.Renderer(model)\n",
        "\n",
        "# enable joint visualization option:\n",
        "scene_option = mujoco.MjvOption()\n",
        "scene_option.flags[mujoco.mjtVisFlag.mjVIS_JOINT] = True\n",
        "\n",
        "duration = 3.8  # (seconds)\n",
        "framerate = 60  # (Hz)\n",
        "\n",
        "frames = []\n",
        "mujoco.mj_resetData(model, data)\n",
        "while data.time < duration:\n",
        "  mujoco.mj_step(model, data)\n",
        "  if len(frames) < data.time * framerate:\n",
        "    renderer.update_scene(data, scene_option=scene_option)\n",
        "    pixels = renderer.render()\n",
        "    frames.append(pixels)\n",
        "\n",
        "# Simulate and display video.\n",
        "media.show_video(frames, fps=framerate)"
      ]
    },
    {
      "cell_type": "markdown",
      "metadata": {
        "id": "Ymv-tvWCpl6V"
      },
      "source": [
        "Note that we rotated the `box_and_sphere` body by 30° around the Z (vertical) axis, with the directive `euler=\"0 0 -30\"`. This was made to emphasize that the poses of elements in the [kinematic tree](https://www.google.com/url?sa=D&q=https%3A%2F%2Fen.wikipedia.org%2Fwiki%2FKinematic_chain) are always with respect to their *parent body*, so our two geoms were also rotated by this transformation.\n",
        "\n",
        "Physics options live in `mjModel.opt`, for example the timestep:"
      ]
    },
    {
      "cell_type": "code",
      "execution_count": null,
      "metadata": {
        "id": "5yvAJokcpyX_"
      },
      "outputs": [],
      "source": [
        "model.opt.timestep"
      ]
    },
    {
      "cell_type": "markdown",
      "metadata": {
        "id": "SdkwLeGUp9B2"
      },
      "source": [
        "Let's flip gravity and re-render:"
      ]
    },
    {
      "cell_type": "code",
      "execution_count": null,
      "metadata": {
        "id": "ocjPQG8Dp2F-"
      },
      "outputs": [],
      "source": [
        "print('default gravity', model.opt.gravity)\n",
        "model.opt.gravity = (0, 0, 10)\n",
        "print('flipped gravity', model.opt.gravity)\n",
        "\n",
        "frames = []\n",
        "mujoco.mj_resetData(model, data)\n",
        "while data.time < duration:\n",
        "  mujoco.mj_step(model, data)\n",
        "  if len(frames) < data.time * framerate:\n",
        "    renderer.update_scene(data, scene_option=scene_option)\n",
        "    pixels = renderer.render()\n",
        "    frames.append(pixels)\n",
        "\n",
        "media.show_video(frames, fps=60)"
      ]
    },
    {
      "cell_type": "markdown",
      "metadata": {
        "id": "FsxDDgXBqg_J"
      },
      "source": [
        "We could also have done this in XML using the top-level `<option>` element:\n",
        "```xml\n",
        "<mujoco>\n",
        "  <option gravity=\"0 0 10\"/>\n",
        "  ...\n",
        "</mujoco>\n",
        "```"
      ]
    },
    {
      "cell_type": "markdown",
      "metadata": {
        "id": "QY1gpms1HXeN"
      },
      "source": [
        "### Understanding Degrees of Freedom\n",
        "\n",
        "In the real world, all rigid objects have 6 degrees-of-freedom: 3 translations and 3 rotations. Real-world joints act as constraints, removing relative degrees-of-freedom from bodies connected by joints. Some physics simulation software use this representation which is known as the \"Cartesian\" or \"subtractive\" representation, but it is inefficient. MuJoCo uses a representation known as the \"Lagrangian\", \"generalized\" or \"additive\" representation, whereby objects have no degrees of freedom unless explicitly added using joints.\n",
        "\n",
        "Our model, which has a single hinge joint, has one degree of freedom, and the entire state is defined by this joint's angle and angular velocity. These are the system's generalized position and velocity."
      ]
    },
    {
      "cell_type": "code",
      "execution_count": null,
      "metadata": {
        "id": "wEdfGEfSKAOC"
      },
      "outputs": [],
      "source": [
        "print('Total number of DoFs in the model:', model.nv)\n",
        "print('Generalized positions:', data.qpos)\n",
        "print('Generalized velocities:', data.qvel)"
      ]
    },
    {
      "cell_type": "markdown",
      "metadata": {
        "id": "Z8E-P5xONUSn"
      },
      "source": [
        "MuJoCo's use of generalized coordinates is the reason that calling a function (e.g. [`mj_forward`](https://mujoco.readthedocs.io/en/latest/APIreference.html#mj-forward)) is required before rendering or reading the global poses of objects – Cartesian positions are *derived* from the generalized positions and need to be explicitly computed."
      ]
    },
    {
      "cell_type": "markdown",
      "metadata": {
        "id": "SHppAOjvSupc"
      },
      "source": [
        "# Example: Simulating free bodies with the self-inverting \"tippe-top\"\n",
        "\n",
        "A free body is a body with a [free joint](https://www.google.com/url?sa=D&q=https%3A%2F%2Fmujoco.readthedocs.io%2Fen%2Flatest%2FXMLreference.html%3Fhighlight%3Dfreejoint%23body-freejoint) having 6 DoFs, i.e., 3 translations and 3 rotations. We could give our `box_and_sphere` body a free joint and watch it fall, but let's look at something more interesting. A \"tippe top\" is a spinning toy which flips itself ([video](https://www.youtube.com/watch?v=kbYpVrdcszQ), [Wikipedia](https://en.wikipedia.org/wiki/Tippe_top)). We model it as follows:"
      ]
    },
    {
      "cell_type": "code",
      "execution_count": null,
      "metadata": {
        "id": "xasXQpVMjIwA"
      },
      "outputs": [],
      "source": [
        "tippe_top = \"\"\"\n",
        "<mujoco model=\"tippe top\">\n",
        "  <option integrator=\"RK4\"/>\n",
        "\n",
        "  <asset>\n",
        "    <texture name=\"grid\" type=\"2d\" builtin=\"checker\" rgb1=\".1 .2 .3\"\n",
        "     rgb2=\".2 .3 .4\" width=\"300\" height=\"300\"/>\n",
        "    <material name=\"grid\" texture=\"grid\" texrepeat=\"8 8\" reflectance=\".2\"/>\n",
        "  </asset>\n",
        "\n",
        "  <worldbody>\n",
        "    <geom size=\".2 .2 .01\" type=\"plane\" material=\"grid\"/>\n",
        "    <light pos=\"0 0 .6\"/>\n",
        "    <camera name=\"closeup\" pos=\"0 -.1 .07\" xyaxes=\"1 0 0 0 1 2\"/>\n",
        "    <body name=\"top\" pos=\"0 0 .02\">\n",
        "      <freejoint/>\n",
        "      <geom name=\"ball\" type=\"sphere\" size=\".02\" />\n",
        "      <geom name=\"stem\" type=\"cylinder\" pos=\"0 0 .02\" size=\"0.004 .008\"/>\n",
        "      <geom name=\"ballast\" type=\"box\" size=\".023 .023 0.005\"  pos=\"0 0 -.015\"\n",
        "       contype=\"0\" conaffinity=\"0\" group=\"3\"/>\n",
        "    </body>\n",
        "  </worldbody>\n",
        "\n",
        "  <keyframe>\n",
        "    <key name=\"spinning\" qpos=\"0 0 0.02 1 0 0 0\" qvel=\"0 0 0 0 1 200\" />\n",
        "  </keyframe>\n",
        "</mujoco>\n",
        "\"\"\"\n",
        "model = mujoco.MjModel.from_xml_string(tippe_top)\n",
        "renderer = mujoco.Renderer(model)\n",
        "data = mujoco.MjData(model)\n",
        "mujoco.mj_forward(model, data)\n",
        "renderer.update_scene(data, camera=\"closeup\")\n",
        "media.show_image(renderer.render())"
      ]
    },
    {
      "cell_type": "markdown",
      "metadata": {
        "id": "bvHlr6maJYIG"
      },
      "source": [
        "Note several new features of this model definition:\n",
        "1. A 6-DoF free joint is added with the `<freejoint/>` clause.\n",
        "2. We use the `<option/>` clause to set the integrator to the 4th order [Runge Kutta](https://en.wikipedia.org/wiki/Runge%E2%80%93Kutta_methods). Runge-Kutta has a higher rate of convergence than the default Euler integrator, which in many cases increases the accuracy at a given timestep size.\n",
        "3. We define the floor's grid material inside the `<asset/>` clause and reference it in the `\"floor\"` geom.\n",
        "4. We use an invisible and non-colliding box geom called `ballast` to move the top's center-of-mass lower. Having a low center of mass is (counter-intuitively) required for the flipping behavior to occur.\n",
        "5. We save our initial spinning state as a *keyframe*. It has a high rotational velocity around the Z-axis, but is not perfectly oriented with the world, which introduces the symmetry-breaking required for the flipping.\n",
        "6. We define a `<camera>` in our model, and then render from it using the `camera` argument to `update_scene()`.\n",
        "Let us examine the state:\n"
      ]
    },
    {
      "cell_type": "code",
      "execution_count": null,
      "metadata": {
        "id": "o4S9nYhHOKmb"
      },
      "outputs": [],
      "source": [
        "print('positions', data.qpos)\n",
        "print('velocities', data.qvel)"
      ]
    },
    {
      "cell_type": "markdown",
      "metadata": {
        "id": "71UgzBAqWdtZ"
      },
      "source": [
        "The velocities are easy to interpret, 6 zeros, one for each DoF. What about the length 7 positions? We can see the initial 2cm height of the body; the subsequent four numbers are the 3D orientation, defined by a *unit quaternion*. 3D orientations are represented with **4** numbers while angular velocities are **3** numbers. For more information see the Wikipedia article on [quaternions and spatial rotation](https://en.wikipedia.org/wiki/Quaternions_and_spatial_rotation).\n",
        "\n",
        "Let's make a video:"
      ]
    },
    {
      "cell_type": "code",
      "execution_count": null,
      "metadata": {
        "id": "5P4HkhKNGQvs"
      },
      "outputs": [],
      "source": [
        "duration = 7    # (seconds)\n",
        "framerate = 60  # (Hz)\n",
        "\n",
        "# Simulate and display video.\n",
        "frames = []\n",
        "mujoco.mj_resetDataKeyframe(model, data, 0)  # Reset the state to keyframe 0\n",
        "while data.time < duration:\n",
        "  mujoco.mj_step(model, data)\n",
        "  if len(frames) < data.time * framerate:\n",
        "    renderer.update_scene(data, \"closeup\")\n",
        "    pixels = renderer.render()\n",
        "    frames.append(pixels)\n",
        "\n",
        "media.show_video(frames, fps=framerate)"
      ]
    },
    {
      "cell_type": "markdown",
      "metadata": {
        "id": "rRuFKD2ubPgu"
      },
      "source": [
        "### Measuring values from `mjData`\n",
        "As mentioned above, the `mjData` structure contains the dynamic variables and intermediate results produced by the simulation which are *expected to change* on each timestep. Below we simulate for 2000 timesteps and plot the angular velocity of the top and height of the stem as a function of time."
      ]
    },
    {
      "cell_type": "code",
      "execution_count": null,
      "metadata": {
        "id": "1XXB6asJoZ2N"
      },
      "outputs": [],
      "source": [
        "timevals = []\n",
        "angular_velocity = []\n",
        "stem_height = []\n",
        "\n",
        "# Simulate and save data\n",
        "mujoco.mj_resetDataKeyframe(model, data, 0)\n",
        "while data.time < duration:\n",
        "  mujoco.mj_step(model, data)\n",
        "  timevals.append(data.time)\n",
        "  angular_velocity.append(data.qvel[3:6].copy())\n",
        "  stem_height.append(data.geom_xpos[2,2]);\n",
        "\n",
        "dpi = 120\n",
        "width = 600\n",
        "height = 800\n",
        "figsize = (width / dpi, height / dpi)\n",
        "_, ax = plt.subplots(2, 1, figsize=figsize, dpi=dpi, sharex=True)\n",
        "\n",
        "ax[0].plot(timevals, angular_velocity)\n",
        "ax[0].set_title('angular velocity')\n",
        "ax[0].set_ylabel('radians / second')\n",
        "\n",
        "ax[1].plot(timevals, stem_height)\n",
        "ax[1].set_xlabel('time (seconds)')\n",
        "ax[1].set_ylabel('meters')\n",
        "_ = ax[1].set_title('stem height')"
      ]
    },
    {
      "cell_type": "markdown",
      "metadata": {
        "id": "u_zN8vATwcGy"
      },
      "source": [
        "# Example: A chaotic pendulum"
      ]
    },
    {
      "cell_type": "markdown",
      "metadata": {
        "id": "g1MKUEL_eSCM"
      },
      "source": [
        "Below is a model of a chaotic pendulum, similar to [this one](https://www.exploratorium.edu/exhibits/chaotic-pendulum) in the San Francisco Exploratorium."
      ]
    },
    {
      "cell_type": "code",
      "execution_count": null,
      "metadata": {
        "id": "3jHYTV-bwfrS"
      },
      "outputs": [],
      "source": [
        "chaotic_pendulum = \"\"\"\n",
        "<mujoco>\n",
        "  <option timestep=\".001\">\n",
        "    <flag energy=\"enable\" contact=\"disable\"/>\n",
        "  </option>\n",
        "\n",
        "  <default>\n",
        "    <joint type=\"hinge\" axis=\"0 -1 0\"/>\n",
        "    <geom type=\"capsule\" size=\".02\"/>\n",
        "  </default>\n",
        "\n",
        "  <worldbody>\n",
        "    <light pos=\"0 -.4 1\"/>\n",
        "    <camera name=\"fixed\" pos=\"0 -1 0\" xyaxes=\"1 0 0 0 0 1\"/>\n",
        "    <body name=\"0\" pos=\"0 0 .2\">\n",
        "      <joint name=\"root\"/>\n",
        "      <geom fromto=\"-.2 0 0 .2 0 0\" rgba=\"1 1 0 1\"/>\n",
        "      <geom fromto=\"0 0 0 0 0 -.25\" rgba=\"1 1 0 1\"/>\n",
        "      <body name=\"1\" pos=\"-.2 0 0\">\n",
        "        <joint/>\n",
        "        <geom fromto=\"0 0 0 0 0 -.2\" rgba=\"1 0 0 1\"/>\n",
        "      </body>\n",
        "      <body name=\"2\" pos=\".2 0 0\">\n",
        "        <joint/>\n",
        "        <geom fromto=\"0 0 0 0 0 -.2\" rgba=\"0 1 0 1\"/>\n",
        "      </body>\n",
        "      <body name=\"3\" pos=\"0 0 -.25\">\n",
        "        <joint/>\n",
        "        <geom fromto=\"0 0 0 0 0 -.2\" rgba=\"0 0 1 1\"/>\n",
        "      </body>\n",
        "    </body>\n",
        "  </worldbody>\n",
        "</mujoco>\n",
        "\"\"\"\n",
        "model = mujoco.MjModel.from_xml_string(chaotic_pendulum)\n",
        "renderer = mujoco.Renderer(model, 480, 640)\n",
        "data = mujoco.MjData(model)\n",
        "mujoco.mj_forward(model, data)\n",
        "renderer.update_scene(data, camera=\"fixed\")\n",
        "media.show_image(renderer.render())"
      ]
    },
    {
      "cell_type": "markdown",
      "metadata": {
        "id": "EKZrTBSS5f49"
      },
      "source": [
        "## Timing\n",
        "Let's see a video of it in action while we time the components:"
      ]
    },
    {
      "cell_type": "code",
      "execution_count": null,
      "metadata": {
        "id": "-kNWvE9dNwYW"
      },
      "outputs": [],
      "source": [
        "# setup\n",
        "n_seconds = 6\n",
        "framerate = 30  # Hz\n",
        "n_frames = int(n_seconds * framerate)\n",
        "frames = []\n",
        "renderer = mujoco.Renderer(model, 240, 320)\n",
        "\n",
        "\n",
        "# set initial state\n",
        "mujoco.mj_resetData(model, data)\n",
        "data.joint('root').qvel = 10\n",
        "\n",
        "\n",
        "# simulate and record frames\n",
        "frame = 0\n",
        "sim_time = 0\n",
        "render_time = 0\n",
        "n_steps = 0\n",
        "for i in range(n_frames):\n",
        "  while data.time * framerate < i:\n",
        "    tic = time.time()\n",
        "    mujoco.mj_step(model, data)\n",
        "    sim_time += time.time() - tic\n",
        "    n_steps += 1\n",
        "  tic = time.time()\n",
        "  renderer.update_scene(data, \"fixed\")\n",
        "  frame = renderer.render()\n",
        "  render_time += time.time() - tic\n",
        "  frames.append(frame)\n",
        "\n",
        "# print timing and play video\n",
        "step_time = 1e6*sim_time/n_steps\n",
        "step_fps = n_steps/sim_time\n",
        "print(f'simulation: {step_time:5.3g} μs/step  ({step_fps:5.0f}Hz)')\n",
        "frame_time = 1e6*render_time/n_frames\n",
        "frame_fps = n_frames/render_time\n",
        "print(f'rendering:  {frame_time:5.3g} μs/frame ({frame_fps:5.0f}Hz)')\n",
        "print('\\n')\n",
        "\n",
        "# show video\n",
        "media.show_video(frames, fps=framerate)"
      ]
    },
    {
      "cell_type": "markdown",
      "metadata": {
        "id": "Iqi_m8HT-X5k"
      },
      "source": [
        "Note that rendering is **much** slower than the simulated physics.\n",
        "\n",
        "## Chaos\n",
        "This is a [chaotic](https://en.wikipedia.org/wiki/Chaos_theory) system (small pertubations in initial conditions accumulate quickly):"
      ]
    },
    {
      "cell_type": "code",
      "execution_count": null,
      "metadata": {
        "id": "Pa_19EfvOzzg"
      },
      "outputs": [],
      "source": [
        "PERTURBATION = 1e-7\n",
        "SIM_DURATION = 10 # seconds\n",
        "NUM_REPEATS = 8\n",
        "\n",
        "# preallocate\n",
        "n_steps = int(SIM_DURATION / model.opt.timestep)\n",
        "sim_time = np.zeros(n_steps)\n",
        "angle = np.zeros(n_steps)\n",
        "energy = np.zeros(n_steps)\n",
        "\n",
        "# prepare plotting axes\n",
        "_, ax = plt.subplots(2, 1, figsize=(8, 6), sharex=True)\n",
        "\n",
        "# simulate NUM_REPEATS times with slightly different initial conditions\n",
        "for _ in range(NUM_REPEATS):\n",
        "  # initialize\n",
        "  mujoco.mj_resetData(model, data)\n",
        "  data.qvel[0] = 10 # root joint velocity\n",
        "  # perturb initial velocities\n",
        "  data.qvel[:] += PERTURBATION * np.random.randn(model.nv)\n",
        "\n",
        "  # simulate\n",
        "  for i in range(n_steps):\n",
        "    mujoco.mj_step(model, data)\n",
        "    sim_time[i] = data.time\n",
        "    angle[i] = data.joint('root').qpos\n",
        "    energy[i] = data.energy[0] + data.energy[1]\n",
        "\n",
        "  # plot\n",
        "  ax[0].plot(sim_time, angle)\n",
        "  ax[1].plot(sim_time, energy)\n",
        "\n",
        "# finalize plot\n",
        "ax[0].set_title('root angle')\n",
        "ax[0].set_ylabel('radian')\n",
        "ax[1].set_title('total energy')\n",
        "ax[1].set_ylabel('Joule')\n",
        "ax[1].set_xlabel('second')\n",
        "plt.tight_layout()"
      ]
    },
    {
      "cell_type": "markdown",
      "metadata": {
        "id": "daSIA_ewFGxV"
      },
      "source": [
        "## Timestep and accuracy\n",
        "**Question:** Why is the energy varying at all? There is no friction or damping, this system should conserve energy.\n",
        "\n",
        "**Answer:** Because of the discretization of time.\n",
        "\n",
        "If we decrease the timestep we'll get better accuracy and better energy conservation:"
      ]
    },
    {
      "cell_type": "code",
      "execution_count": null,
      "metadata": {
        "id": "4z-7KN_fFme-"
      },
      "outputs": [],
      "source": [
        "SIM_DURATION = 10 # (seconds)\n",
        "TIMESTEPS = np.power(10, np.linspace(-2, -4, 5))\n",
        "\n",
        "# prepare plotting axes\n",
        "_, ax = plt.subplots(1, 1)\n",
        "\n",
        "for dt in TIMESTEPS:\n",
        "   # set timestep, print\n",
        "  model.opt.timestep = dt\n",
        "\n",
        "  # allocate\n",
        "  n_steps = int(SIM_DURATION / model.opt.timestep)\n",
        "  sim_time = np.zeros(n_steps)\n",
        "  energy = np.zeros(n_steps)\n",
        "\n",
        "  # initialize\n",
        "  mujoco.mj_resetData(model, data)\n",
        "  data.qvel[0] = 9 # root joint velocity\n",
        "\n",
        "  # simulate\n",
        "  print('{} steps at dt = {:2.2g}ms'.format(n_steps, 1000*dt))\n",
        "  for i in range(n_steps):\n",
        "    mujoco.mj_step(model, data)\n",
        "    sim_time[i] = data.time\n",
        "    energy[i] = data.energy[0] + data.energy[1]\n",
        "\n",
        "  # plot\n",
        "  ax.plot(sim_time, energy, label='timestep = {:2.2g}ms'.format(1000*dt))\n",
        "\n",
        "# finalize plot\n",
        "ax.set_title('energy')\n",
        "ax.set_ylabel('Joule')\n",
        "ax.set_xlabel('second')\n",
        "ax.legend(frameon=True);\n",
        "plt.tight_layout()"
      ]
    },
    {
      "cell_type": "markdown",
      "metadata": {
        "id": "jsVkUm7QKb9I"
      },
      "source": [
        "## Timestep and divergence\n",
        "When we increase the time step, the simulation quickly diverges:"
      ]
    },
    {
      "cell_type": "code",
      "execution_count": null,
      "metadata": {
        "id": "FbdUA4zDPbDP"
      },
      "outputs": [],
      "source": [
        "SIM_DURATION = 10 # (seconds)\n",
        "TIMESTEPS = np.power(10, np.linspace(-2, -1.5, 7))\n",
        "\n",
        "# get plotting axes\n",
        "ax = plt.gca()\n",
        "\n",
        "for dt in TIMESTEPS:\n",
        "  # set timestep\n",
        "  model.opt.timestep = dt\n",
        "\n",
        "  # allocate\n",
        "  n_steps = int(SIM_DURATION / model.opt.timestep)\n",
        "  sim_time = np.zeros(n_steps)\n",
        "  energy = np.zeros(n_steps) * np.nan\n",
        "  speed = np.zeros(n_steps) * np.nan\n",
        "\n",
        "  # initialize\n",
        "  mujoco.mj_resetData(model, data)\n",
        "  data.qvel[0] = 11 # set root joint velocity\n",
        "\n",
        "  # simulate\n",
        "  print('simulating {} steps at dt = {:2.2g}ms'.format(n_steps, 1000*dt))\n",
        "  for i in range(n_steps):\n",
        "    mujoco.mj_step(model, data)\n",
        "    if data.warning.number.any():\n",
        "      warning_index = np.nonzero(data.warning.number)[0][0]\n",
        "      warning = mujoco.mjtWarning(warning_index).name\n",
        "      print(f'stopped due to divergence ({warning}) at timestep {i}.\\n')\n",
        "      break\n",
        "    sim_time[i] = data.time\n",
        "    energy[i] = sum(abs(data.qvel))\n",
        "    speed[i] = np.linalg.norm(data.qvel)\n",
        "\n",
        "  # plot\n",
        "  ax.plot(sim_time, energy, label='timestep = {:2.2g}ms'.format(1000*dt))\n",
        "  ax.set_yscale('log')\n",
        "\n",
        "\n",
        "# finalize plot\n",
        "ax.set_ybound(1, 1e3)\n",
        "ax.set_title('energy')\n",
        "ax.set_ylabel('Joule')\n",
        "ax.set_xlabel('second')\n",
        "ax.legend(frameon=True, loc='lower right');\n",
        "plt.tight_layout()\n"
      ]
    },
    {
      "cell_type": "markdown",
      "metadata": {
        "id": "FITYfGyy3XPL"
      },
      "source": [
        "# Contacts\n",
        "\n",
        "Let's go back to our box and sphere example and give it a free joint:"
      ]
    },
    {
      "cell_type": "code",
      "execution_count": null,
      "metadata": {
        "id": "2n1VNVv_FkbB"
      },
      "outputs": [],
      "source": [
        "free_body_MJCF = \"\"\"\n",
        "<mujoco>\n",
        "  <asset>\n",
        "    <texture name=\"grid\" type=\"2d\" builtin=\"checker\" rgb1=\".1 .2 .3\"\n",
        "    rgb2=\".2 .3 .4\" width=\"300\" height=\"300\" mark=\"edge\" markrgb=\".2 .3 .4\"/>\n",
        "    <material name=\"grid\" texture=\"grid\" texrepeat=\"2 2\" texuniform=\"true\"\n",
        "    reflectance=\".2\"/>\n",
        "  </asset>\n",
        "\n",
        "  <worldbody>\n",
        "    <light pos=\"0 0 1\" mode=\"trackcom\"/>\n",
        "    <geom name=\"ground\" type=\"plane\" pos=\"0 0 -.5\" size=\"2 2 .1\" material=\"grid\" solimp=\".99 .99 .01\" solref=\".001 1\"/>\n",
        "    <body name=\"box_and_sphere\" pos=\"0 0 0\">\n",
        "      <freejoint/>\n",
        "      <geom name=\"red_box\" type=\"box\" size=\".1 .1 .1\" rgba=\"1 0 0 1\" solimp=\".99 .99 .01\"  solref=\".001 1\"/>\n",
        "      <geom name=\"green_sphere\" size=\".06\" pos=\".1 .1 .1\" rgba=\"0 1 0 1\"/>\n",
        "      <camera name=\"fixed\" pos=\"0 -.6 .3\" xyaxes=\"1 0 0 0 1 2\"/>\n",
        "      <camera name=\"track\" pos=\"0 -.6 .3\" xyaxes=\"1 0 0 0 1 2\" mode=\"track\"/>\n",
        "    </body>\n",
        "  </worldbody>\n",
        "</mujoco>\n",
        "\"\"\"\n",
        "model = mujoco.MjModel.from_xml_string(free_body_MJCF)\n",
        "renderer = mujoco.Renderer(model, 400, 600)\n",
        "data = mujoco.MjData(model)\n",
        "mujoco.mj_forward(model, data)\n",
        "renderer.update_scene(data, \"fixed\")\n",
        "media.show_image(renderer.render())"
      ]
    },
    {
      "cell_type": "markdown",
      "metadata": {
        "id": "Z2amdQCn8REu"
      },
      "source": [
        "Let render this body rolling on the floor, in slow-motion, while visualizing contact points and forces:"
      ]
    },
    {
      "cell_type": "code",
      "execution_count": null,
      "metadata": {
        "id": "HlRhFs_d3WLP"
      },
      "outputs": [],
      "source": [
        "n_frames = 200\n",
        "height = 240\n",
        "width = 320\n",
        "frames = []\n",
        "renderer = mujoco.Renderer(model, height, width)\n",
        "\n",
        "# visualize contact frames and forces, make body transparent\n",
        "options = mujoco.MjvOption()\n",
        "mujoco.mjv_defaultOption(options)\n",
        "options.flags[mujoco.mjtVisFlag.mjVIS_CONTACTPOINT] = True\n",
        "options.flags[mujoco.mjtVisFlag.mjVIS_CONTACTFORCE] = True\n",
        "options.flags[mujoco.mjtVisFlag.mjVIS_TRANSPARENT] = True\n",
        "\n",
        "# tweak scales of contact visualization elements\n",
        "model.vis.scale.contactwidth = 0.1\n",
        "model.vis.scale.contactheight = 0.03\n",
        "model.vis.scale.forcewidth = 0.05\n",
        "model.vis.map.force = 0.3\n",
        "\n",
        "# random initial rotational velocity:\n",
        "mujoco.mj_resetData(model, data)\n",
        "data.qvel[3:6] = 5*np.random.randn(3)\n",
        "\n",
        "# simulate and render\n",
        "for i in range(n_frames):\n",
        "  while data.time < i/120.0: #1/4x real time\n",
        "    mujoco.mj_step(model, data)\n",
        "  renderer.update_scene(data, \"track\", options)\n",
        "  frame = renderer.render()\n",
        "  frames.append(frame)\n",
        "\n",
        "# show video\n",
        "media.show_video(frames, fps=30)"
      ]
    },
    {
      "cell_type": "markdown",
      "metadata": {
        "id": "_181TbtVSMBl"
      },
      "source": [
        "## Analysis of contact forces\n",
        "\n",
        "Let's rerun the above simulation (with a different random initial condition) and\n",
        "plot some values related to the contacts"
      ]
    },
    {
      "cell_type": "code",
      "execution_count": null,
      "metadata": {
        "id": "BMqyWeHki8Eg"
      },
      "outputs": [],
      "source": [
        "n_steps = 499\n",
        "\n",
        "# allocate\n",
        "sim_time = np.zeros(n_steps)\n",
        "ncon = np.zeros(n_steps)\n",
        "force = np.zeros((n_steps,3))\n",
        "velocity = np.zeros((n_steps, model.nv))\n",
        "penetration = np.zeros(n_steps)\n",
        "acceleration = np.zeros((n_steps, model.nv))\n",
        "forcetorque = np.zeros(6)\n",
        "\n",
        "# random initial rotational velocity:\n",
        "mujoco.mj_resetData(model, data)\n",
        "data.qvel[3:6] = 2*np.random.randn(3)\n",
        "\n",
        "# simulate and save data\n",
        "for i in range(n_steps):\n",
        "  mujoco.mj_step(model, data)\n",
        "  sim_time[i] = data.time\n",
        "  ncon[i] = data.ncon\n",
        "  velocity[i] = data.qvel[:]\n",
        "  acceleration[i] = data.qacc[:]\n",
        "  # iterate over active contacts, save force and distance\n",
        "  for j,c in enumerate(data.contact):\n",
        "    mujoco.mj_contactForce(model, data, j, forcetorque)\n",
        "    force[i] += forcetorque[0:3]\n",
        "    penetration[i] = min(penetration[i], c.dist)\n",
        "  # we could also do\n",
        "  # force[i] += data.qfrc_constraint[0:3]\n",
        "  # do you see why?\n",
        "\n",
        "# plot\n",
        "_, ax = plt.subplots(3, 2, sharex=True, figsize=(10, 10))\n",
        "\n",
        "lines = ax[0,0].plot(sim_time, force)\n",
        "ax[0,0].set_title('contact force')\n",
        "ax[0,0].set_ylabel('Newton')\n",
        "ax[0,0].legend(iter(lines), ('normal z', 'friction x', 'friction y'));\n",
        "\n",
        "ax[1,0].plot(sim_time, acceleration)\n",
        "ax[1,0].set_title('acceleration')\n",
        "ax[1,0].set_ylabel('(meter,radian)/s/s')\n",
        "\n",
        "ax[2,0].plot(sim_time, velocity)\n",
        "ax[2,0].set_title('velocity')\n",
        "ax[2,0].set_ylabel('(meter,radian)/s')\n",
        "ax[2,0].set_xlabel('second')\n",
        "\n",
        "ax[0,1].plot(sim_time, ncon)\n",
        "ax[0,1].set_title('number of contacts')\n",
        "ax[0,1].set_yticks(range(6))\n",
        "\n",
        "ax[1,1].plot(sim_time, force[:,0])\n",
        "ax[1,1].set_yscale('log')\n",
        "ax[1,1].set_title('normal (z) force - log scale')\n",
        "ax[1,1].set_ylabel('Newton')\n",
        "z_gravity = -model.opt.gravity[2]\n",
        "mg = model.body(\"box_and_sphere\").mass[0] * z_gravity\n",
        "mg_line = ax[1,1].plot(sim_time, np.ones(n_steps)*mg, label='m*g', linewidth=1)\n",
        "ax[1,1].legend()\n",
        "\n",
        "ax[2,1].plot(sim_time, 1000*penetration)\n",
        "ax[2,1].set_title('penetration depth')\n",
        "ax[2,1].set_ylabel('millimeter')\n",
        "ax[2,1].set_xlabel('second')\n",
        "\n",
        "plt.tight_layout()"
      ]
    },
    {
      "cell_type": "markdown",
      "metadata": {
        "id": "zV5PkYzFXu42"
      },
      "source": [
        "## Friction\n",
        "\n",
        "Let's see the effect of changing friction values"
      ]
    },
    {
      "cell_type": "code",
      "execution_count": null,
      "metadata": {
        "id": "2R_gKoYyXwda"
      },
      "outputs": [],
      "source": [
        "MJCF = \"\"\"\n",
        "<mujoco>\n",
        "  <asset>\n",
        "    <texture name=\"grid\" type=\"2d\" builtin=\"checker\" rgb1=\".1 .2 .3\"\n",
        "     rgb2=\".2 .3 .4\" width=\"300\" height=\"300\" mark=\"none\"/>\n",
        "    <material name=\"grid\" texture=\"grid\" texrepeat=\"6 6\"\n",
        "     texuniform=\"true\" reflectance=\".2\"/>\n",
        "     <material name=\"wall\" rgba='.5 .5 .5 1'/>\n",
        "  </asset>\n",
        "\n",
        "  <default>\n",
        "    <geom type=\"box\" size=\".05 .05 .05\" />\n",
        "    <joint type=\"free\"/>\n",
        "  </default>\n",
        "\n",
        "  <worldbody>\n",
        "    <light name=\"light\" pos=\"-.2 0 1\"/>\n",
        "    <geom name=\"ground\" type=\"plane\" size=\".5 .5 10\" material=\"grid\"\n",
        "     zaxis=\"-.3 0 1\" friction=\".1\"/>\n",
        "    <camera name=\"y\" pos=\"-.1 -.6 .3\" xyaxes=\"1 0 0 0 1 2\"/>\n",
        "    <body pos=\"0 0 .1\">\n",
        "      <joint/>\n",
        "      <geom/>\n",
        "    </body>\n",
        "    <body pos=\"0 .2 .1\">\n",
        "      <joint/>\n",
        "      <geom friction=\".33\"/>\n",
        "    </body>\n",
        "  </worldbody>\n",
        "\n",
        "</mujoco>\n",
        "\"\"\"\n",
        "n_frames = 60\n",
        "height = 300\n",
        "width = 300\n",
        "frames = []\n",
        "\n",
        "# load\n",
        "model = mujoco.MjModel.from_xml_string(MJCF)\n",
        "data = mujoco.MjData(model)\n",
        "renderer = mujoco.Renderer(model, height, width)\n",
        "\n",
        "# simulate and render\n",
        "mujoco.mj_resetData(model, data)\n",
        "for i in range(n_frames):\n",
        "  while data.time < i/30.0:\n",
        "    mujoco.mj_step(model, data)\n",
        "  renderer.update_scene(data, \"y\")\n",
        "  frame = renderer.render()\n",
        "  frames.append(frame)\n",
        "media.show_video(frames, fps=30)"
      ]
    },
    {
      "cell_type": "markdown",
      "metadata": {
        "id": "ArmmaPqGP6W7"
      },
      "source": [
        "# Tendons, actuators and sensors"
      ]
    },
    {
      "cell_type": "code",
      "execution_count": null,
      "metadata": {
        "id": "VJz84c97c8Df"
      },
      "outputs": [],
      "source": [
        "MJCF = \"\"\"\n",
        "<mujoco>\n",
        "  <asset>\n",
        "    <texture name=\"grid\" type=\"2d\" builtin=\"checker\" rgb1=\".1 .2 .3\"\n",
        "     rgb2=\".2 .3 .4\" width=\"300\" height=\"300\" mark=\"none\"/>\n",
        "    <material name=\"grid\" texture=\"grid\" texrepeat=\"1 1\"\n",
        "     texuniform=\"true\" reflectance=\".2\"/>\n",
        "  </asset>\n",
        "\n",
        "  <worldbody>\n",
        "    <light name=\"light\" pos=\"0 0 1\"/>\n",
        "    <geom name=\"floor\" type=\"plane\" pos=\"0 0 -.5\" size=\"2 2 .1\" material=\"grid\"/>\n",
        "    <site name=\"anchor\" pos=\"0 0 .3\" size=\".01\"/>\n",
        "    <camera name=\"fixed\" pos=\"0 -1.3 .5\" xyaxes=\"1 0 0 0 1 2\"/>\n",
        "\n",
        "    <geom name=\"pole\" type=\"cylinder\" fromto=\".3 0 -.5 .3 0 -.1\" size=\".04\"/>\n",
        "    <body name=\"bat\" pos=\".3 0 -.1\">\n",
        "      <joint name=\"swing\" type=\"hinge\" damping=\"1\" axis=\"0 0 1\"/>\n",
        "      <geom name=\"bat\" type=\"capsule\" fromto=\"0 0 .04 0 -.3 .04\"\n",
        "       size=\".04\" rgba=\"0 0 1 1\"/>\n",
        "    </body>\n",
        "\n",
        "    <body name=\"box_and_sphere\" pos=\"0 0 0\">\n",
        "      <joint name=\"free\" type=\"free\"/>\n",
        "      <geom name=\"red_box\" type=\"box\" size=\".1 .1 .1\" rgba=\"1 0 0 1\"/>\n",
        "      <geom name=\"green_sphere\"  size=\".06\" pos=\".1 .1 .1\" rgba=\"0 1 0 1\"/>\n",
        "      <site name=\"hook\" pos=\"-.1 -.1 -.1\" size=\".01\"/>\n",
        "      <site name=\"IMU\"/>\n",
        "    </body>\n",
        "  </worldbody>\n",
        "\n",
        "  <tendon>\n",
        "    <spatial name=\"wire\" limited=\"true\" range=\"0 0.35\" width=\"0.003\">\n",
        "      <site site=\"anchor\"/>\n",
        "      <site site=\"hook\"/>\n",
        "    </spatial>\n",
        "  </tendon>\n",
        "\n",
        "  <actuator>\n",
        "    <motor name=\"my_motor\" joint=\"swing\" gear=\"1\"/>\n",
        "  </actuator>\n",
        "\n",
        "  <sensor>\n",
        "    <accelerometer name=\"accelerometer\" site=\"IMU\"/>\n",
        "  </sensor>\n",
        "</mujoco>\n",
        "\"\"\"\n",
        "model = mujoco.MjModel.from_xml_string(MJCF)\n",
        "renderer = mujoco.Renderer(model, 480, 480)\n",
        "data = mujoco.MjData(model)\n",
        "mujoco.mj_forward(model, data)\n",
        "renderer.update_scene(data, \"fixed\")\n",
        "media.show_image(renderer.render())\n"
      ]
    },
    {
      "cell_type": "markdown",
      "metadata": {
        "id": "u8z2vrOr_RVD"
      },
      "source": [
        "actuated bat and passive \"piñata\":"
      ]
    },
    {
      "cell_type": "code",
      "execution_count": null,
      "metadata": {
        "id": "z-zoBCuBv2Xi"
      },
      "outputs": [],
      "source": [
        "n_frames = 180\n",
        "height = 240\n",
        "width = 320\n",
        "frames = []\n",
        "fps = 60.0\n",
        "times = []\n",
        "sensordata = []\n",
        "\n",
        "renderer = mujoco.Renderer(model, height, width)\n",
        "\n",
        "# constant actuator signal\n",
        "mujoco.mj_resetData(model, data)\n",
        "data.ctrl = 20\n",
        "\n",
        "# simulate and render\n",
        "for i in range(n_frames):\n",
        "  while data.time < i/fps:\n",
        "    mujoco.mj_step(model, data)\n",
        "    times.append(data.time)\n",
        "    sensordata.append(data.sensor('accelerometer').data.copy())\n",
        "  renderer.update_scene(data, \"fixed\")\n",
        "  frame = renderer.render()\n",
        "  frames.append(frame)\n",
        "\n",
        "media.show_video(frames, fps=fps)"
      ]
    },
    {
      "cell_type": "markdown",
      "metadata": {
        "id": "gwHMy_iRA7Jh"
      },
      "source": [
        "Let's plot the values measured by our accelerometer sensor:"
      ]
    },
    {
      "cell_type": "code",
      "execution_count": null,
      "metadata": {
        "id": "uy4wSEMAAJgn"
      },
      "outputs": [],
      "source": [
        "ax = plt.gca()\n",
        "\n",
        "ax.plot(np.asarray(times), np.asarray(sensordata), label='timestep = {:2.2g}ms'.format(1000*dt))\n",
        "\n",
        "# finalize plot\n",
        "ax.set_title('Accelerometer values')\n",
        "ax.set_ylabel('meter/second^2')\n",
        "ax.set_xlabel('second')\n",
        "ax.legend(frameon=True, loc='lower right');\n",
        "plt.tight_layout()"
      ]
    },
    {
      "cell_type": "markdown",
      "metadata": {
        "id": "0YKSTtJ_BQ7x"
      },
      "source": [
        "Note how the moments when the body is hit by the bat are clearly visible in the accelerometer measurements."
      ]
    },
    {
      "cell_type": "markdown",
      "metadata": {
        "id": "1kOs1wTc7uCZ"
      },
      "source": [
        "# Advanced rendering\n",
        "\n",
        "Like joint visualization, additional rendering options are exposed as parameters to the `render` method.\n",
        "\n",
        "Let's bring back our first model:"
      ]
    },
    {
      "cell_type": "code",
      "execution_count": null,
      "metadata": {
        "id": "mTDgsk2xcgwH"
      },
      "outputs": [],
      "source": [
        "xml = \"\"\"\n",
        "<mujoco>\n",
        "  <worldbody>\n",
        "    <light name=\"top\" pos=\"0 0 1\"/>\n",
        "    <body name=\"box_and_sphere\" euler=\"0 0 -30\">\n",
        "      <joint name=\"swing\" type=\"hinge\" axis=\"1 -1 0\" pos=\"-.2 -.2 -.2\"/>\n",
        "      <geom name=\"red_box\" type=\"box\" size=\".2 .2 .2\" rgba=\"1 0 0 1\"/>\n",
        "      <geom name=\"green_sphere\" pos=\".2 .2 .2\" size=\".1\" rgba=\"0 1 0 1\"/>\n",
        "    </body>\n",
        "  </worldbody>\n",
        "</mujoco>\n",
        "\"\"\"\n",
        "model = mujoco.MjModel.from_xml_string(xml)\n",
        "renderer = mujoco.Renderer(model)\n",
        "data = mujoco.MjData(model)\n",
        "\n",
        "mujoco.mj_forward(model, data)\n",
        "renderer.update_scene(data)\n",
        "media.show_image(renderer.render())"
      ]
    },
    {
      "cell_type": "code",
      "execution_count": null,
      "metadata": {
        "id": "VePXamL_6XUc"
      },
      "outputs": [],
      "source": [
        "#@title Enable transparency and frame visualization {vertical-output: true}\n",
        "\n",
        "scene_option.frame = mujoco.mjtFrame.mjFRAME_GEOM\n",
        "scene_option.flags[mujoco.mjtVisFlag.mjVIS_TRANSPARENT] = True\n",
        "renderer.update_scene(data, scene_option=scene_option)\n",
        "frame = renderer.render()\n",
        "media.show_image(frame)"
      ]
    },
    {
      "cell_type": "code",
      "execution_count": null,
      "metadata": {
        "id": "PVcpcvww9lZ8"
      },
      "outputs": [],
      "source": [
        "#@title Depth rendering {vertical-output: true}\n",
        "\n",
        "# update renderer to render depth\n",
        "renderer.enable_depth_rendering()\n",
        "\n",
        "# reset the scene\n",
        "renderer.update_scene(data)\n",
        "\n",
        "# depth is a float array, in meters.\n",
        "depth = renderer.render()\n",
        "\n",
        "# Shift nearest values to the origin.\n",
        "depth -= depth.min()\n",
        "# Scale by 2 mean distances of near rays.\n",
        "depth /= 2*depth[depth <= 1].mean()\n",
        "# Scale to [0, 255]\n",
        "pixels = 255*np.clip(depth, 0, 1)\n",
        "\n",
        "media.show_image(pixels.astype(np.uint8))\n",
        "\n",
        "renderer.disable_depth_rendering()"
      ]
    },
    {
      "cell_type": "code",
      "execution_count": null,
      "metadata": {
        "id": "PNwiIrgpx7T8"
      },
      "outputs": [],
      "source": [
        "#@title Segmentation rendering {vertical-output: true}\n",
        "\n",
        "# update renderer to render segmentation\n",
        "renderer.enable_segmentation_rendering()\n",
        "\n",
        "# reset the scene\n",
        "renderer.update_scene(data)\n",
        "\n",
        "seg = renderer.render()\n",
        "\n",
        "# Display the contents of the first channel, which contains object\n",
        "# IDs. The second channel, seg[:, :, 1], contains object types.\n",
        "geom_ids = seg[:, :, 0]\n",
        "# Infinity is mapped to -1\n",
        "geom_ids = geom_ids.astype(np.float64) + 1\n",
        "# Scale to [0, 1]\n",
        "geom_ids = geom_ids / geom_ids.max()\n",
        "pixels = 255*geom_ids\n",
        "media.show_image(pixels.astype(np.uint8))\n",
        "\n",
        "renderer.disable_segmentation_rendering()"
      ]
    },
    {
      "cell_type": "markdown",
      "metadata": {
        "id": "wo72mo0mGIXr"
      },
      "source": [
        "## The camera matrix\n",
        "\n",
        "For a description of the camera matrix see the article [Camera matrix](https://en.wikipedia.org/wiki/Camera_matrix) on Wikipedia."
      ]
    },
    {
      "cell_type": "code",
      "execution_count": null,
      "metadata": {
        "id": "sDYwClpxaxab"
      },
      "outputs": [],
      "source": [
        "def compute_camera_matrix(renderer, data):\n",
        "  \"\"\"Returns the 3x4 camera matrix.\"\"\"\n",
        "  # If the camera is a 'free' camera, we get its position and orientation\n",
        "  # from the scene data structure. It is a stereo camera, so we average over\n",
        "  # the left and right channels. Note: we call `self.update()` in order to\n",
        "  # ensure that the contents of `scene.camera` are correct.\n",
        "  renderer.update_scene(data)\n",
        "  pos = np.mean([camera.pos for camera in renderer.scene.camera], axis=0)\n",
        "  z = -np.mean([camera.forward for camera in renderer.scene.camera], axis=0)\n",
        "  y = np.mean([camera.up for camera in renderer.scene.camera], axis=0)\n",
        "  rot = np.vstack((np.cross(y, z), y, z))\n",
        "  fov = model.vis.global_.fovy\n",
        "\n",
        "  # Translation matrix (4x4).\n",
        "  translation = np.eye(4)\n",
        "  translation[0:3, 3] = -pos\n",
        "\n",
        "  # Rotation matrix (4x4).\n",
        "  rotation = np.eye(4)\n",
        "  rotation[0:3, 0:3] = rot\n",
        "\n",
        "  # Focal transformation matrix (3x4).\n",
        "  focal_scaling = (1./np.tan(np.deg2rad(fov)/2)) * renderer.height / 2.0\n",
        "  focal = np.diag([-focal_scaling, focal_scaling, 1.0, 0])[0:3, :]\n",
        "\n",
        "  # Image matrix (3x3).\n",
        "  image = np.eye(3)\n",
        "  image[0, 2] = (renderer.width - 1) / 2.0\n",
        "  image[1, 2] = (renderer.height - 1) / 2.0\n",
        "  return image @ focal @ rotation @ translation"
      ]
    },
    {
      "cell_type": "code",
      "execution_count": null,
      "metadata": {
        "id": "My0N4_7PDJ_q"
      },
      "outputs": [],
      "source": [
        "#@title Project from world to camera coordinates {vertical-output: true}\n",
        "# reset the scene\n",
        "renderer.update_scene(data)\n",
        "\n",
        "\n",
        "# Get the world coordinates of the box corners\n",
        "box_pos = data.geom_xpos[model.geom('red_box').id]\n",
        "box_mat = data.geom_xmat[model.geom('red_box').id].reshape(3, 3)\n",
        "box_size = model.geom_size[model.geom('red_box').id]\n",
        "offsets = np.array([-1, 1]) * box_size[:, None]\n",
        "xyz_local = np.stack(list(itertools.product(*offsets))).T\n",
        "xyz_global = box_pos[:, None] + box_mat @ xyz_local\n",
        "\n",
        "# Camera matrices multiply homogenous [x, y, z, 1] vectors.\n",
        "corners_homogeneous = np.ones((4, xyz_global.shape[1]), dtype=float)\n",
        "corners_homogeneous[:3, :] = xyz_global\n",
        "\n",
        "# Get the camera matrix.\n",
        "m = compute_camera_matrix(renderer, data)\n",
        "\n",
        "# Project world coordinates into pixel space. See:\n",
        "# https://en.wikipedia.org/wiki/3D_projection#Mathematical_formula\n",
        "xs, ys, s = m @ corners_homogeneous\n",
        "# x and y are in the pixel coordinate system.\n",
        "x = xs / s\n",
        "y = ys / s\n",
        "\n",
        "# Render the camera view and overlay the projected corner coordinates.\n",
        "pixels = renderer.render()\n",
        "fig, ax = plt.subplots(1, 1)\n",
        "ax.imshow(pixels)\n",
        "ax.plot(x, y, '+', c='w')\n",
        "ax.set_axis_off()"
      ]
    },
    {
      "cell_type": "markdown",
      "metadata": {
        "id": "AGm5-e0sHEAF"
      },
      "source": [
        "## Modifying the scene\n",
        "\n",
        "Let's add some arbitrary geometry to the `mjvScene`."
      ]
    },
    {
      "cell_type": "code",
      "execution_count": null,
      "metadata": {
        "id": "Z6NDYJ8IOVt7"
      },
      "outputs": [],
      "source": [
        "def get_geom_speed(model, data, geom_name):\n",
        "  \"\"\"Returns the speed of a geom.\"\"\"\n",
        "  geom_vel = np.zeros(6)\n",
        "  geom_type = mujoco.mjtObj.mjOBJ_GEOM\n",
        "  geom_id = data.geom(geom_name).id\n",
        "  mujoco.mj_objectVelocity(model, data, geom_type, geom_id, geom_vel, 0)\n",
        "  return np.linalg.norm(geom_vel)\n",
        "\n",
        "def add_visual_capsule(scene, point1, point2, radius, rgba):\n",
        "  \"\"\"Adds one capsule to an mjvScene.\"\"\"\n",
        "  if scene.ngeom >= scene.maxgeom:\n",
        "    return\n",
        "  scene.ngeom += 1  # increment ngeom\n",
        "  # initialise a new capsule, add it to the scene using mjv_makeConnector\n",
        "  mujoco.mjv_initGeom(scene.geoms[scene.ngeom-1],\n",
        "                      mujoco.mjtGeom.mjGEOM_CAPSULE, np.zeros(3),\n",
        "                      np.zeros(3), np.zeros(9), rgba.astype(np.float32))\n",
        "  mujoco.mjv_makeConnector(scene.geoms[scene.ngeom-1],\n",
        "                           mujoco.mjtGeom.mjGEOM_CAPSULE, radius,\n",
        "                           point1[0], point1[1], point1[2],\n",
        "                           point2[0], point2[1], point2[2])\n",
        "\n",
        " # traces of time, position and speed\n",
        "times = []\n",
        "positions = []\n",
        "speeds = []\n",
        "offset = model.jnt_axis[0]/16  # offset along the joint axis\n",
        "\n",
        "def modify_scene(scn):\n",
        "  \"\"\"Draw position trace, speed modifies width and colors.\"\"\"\n",
        "  if len(positions) > 1:\n",
        "    for i in range(len(positions)-1):\n",
        "      rgba=np.array((np.clip(speeds[i]/10, 0, 1),\n",
        "                     np.clip(1-speeds[i]/10, 0, 1),\n",
        "                     .5, 1.))\n",
        "      radius=.003*(1+speeds[i])\n",
        "      point1 = positions[i] + offset*times[i]\n",
        "      point2 = positions[i+1] + offset*times[i+1]\n",
        "      add_visual_capsule(scn, point1, point2, radius, rgba)\n",
        "\n",
        "duration = 6    # (seconds)\n",
        "framerate = 30  # (Hz)\n",
        "\n",
        "# Simulate and display video.\n",
        "frames = []\n",
        "\n",
        "# Reset state and time.\n",
        "mujoco.mj_resetData(model, data)\n",
        "mujoco.mj_forward(model, data)\n",
        "\n",
        "while data.time < duration:\n",
        "  # append data to the traces\n",
        "  positions.append(data.geom_xpos[data.geom(\"green_sphere\").id].copy())\n",
        "  times.append(data.time)\n",
        "  speeds.append(get_geom_speed(model, data, \"green_sphere\"))\n",
        "  mujoco.mj_step(model, data)\n",
        "  if len(frames) < data.time * framerate:\n",
        "    renderer.update_scene(data)\n",
        "    modify_scene(renderer.scene)\n",
        "    pixels = renderer.render()\n",
        "    frames.append(pixels)\n",
        "media.show_video(frames, fps=framerate)"
      ]
    },
    {
      "cell_type": "markdown",
      "metadata": {
        "id": "Zzzugf-qPExb"
      },
      "source": [
        "## Camera control\n",
        "\n",
        "Cameras can be controlled dynamically in order to achieve cinematic effects. Run the three cells below to see the difference between rendering from a static and moving camera.\n",
        "\n",
        "The camera-control code smoothly transitions between two trajectories, one orbiting a fixed point, the other tracking a moving object. Parameter values in the code were obtained by iterating quickly on low-res videos."
      ]
    },
    {
      "cell_type": "code",
      "execution_count": null,
      "metadata": {
        "cellView": "form",
        "id": "-SW-K9WuPGrp"
      },
      "outputs": [],
      "source": [
        "#@title Load the \"dominos\" model\n",
        "dominos_xml = \"\"\"\n",
        "<mujoco>\n",
        "  <asset>\n",
        "    <texture type=\"skybox\" builtin=\"gradient\" rgb1=\".3 .5 .7\" rgb2=\"0 0 0\" width=\"32\" height=\"512\"/>\n",
        "    <texture name=\"grid\" type=\"2d\" builtin=\"checker\" width=\"512\" height=\"512\" rgb1=\".1 .2 .3\" rgb2=\".2 .3 .4\"/>\n",
        "    <material name=\"grid\" texture=\"grid\" texrepeat=\"2 2\" texuniform=\"true\" reflectance=\".2\"/>\n",
        "  </asset>\n",
        "\n",
        "  <statistic meansize=\".01\"/>\n",
        "\n",
        "  <visual>\n",
        "    <global offheight=\"2160\" offwidth=\"3840\"/>\n",
        "    <quality offsamples=\"8\"/>\n",
        "  </visual>\n",
        "\n",
        "  <default>\n",
        "    <geom type=\"box\" solref=\".005 1\"/>\n",
        "    <default class=\"static\">\n",
        "      <geom rgba=\".3 .5 .7 1\"/>\n",
        "    </default>\n",
        "  </default>\n",
        "\n",
        "  <option timestep=\"5e-4\"/>\n",
        "\n",
        "  <worldbody>\n",
        "    <light pos=\".3 -.3 .8\" mode=\"trackcom\" diffuse=\"1 1 1\" specular=\".3 .3 .3\"/>\n",
        "    <light pos=\"0 -.3 .4\" mode=\"targetbodycom\" target=\"box\" diffuse=\".8 .8 .8\" specular=\".3 .3 .3\"/>\n",
        "    <geom name=\"floor\" type=\"plane\" size=\"3 3 .01\" pos=\"-0.025 -0.295  0\" material=\"grid\"/>\n",
        "    <geom name=\"ramp\" pos=\".25 -.45 -.03\" size=\".04 .1 .07\" euler=\"-30 0 0\" class=\"static\"/>\n",
        "    <camera name=\"top\" pos=\"-0.37 -0.78 0.49\" xyaxes=\"0.78 -0.63 0 0.27 0.33 0.9\"/>\n",
        "\n",
        "    <body name=\"ball\" pos=\".25 -.45 .1\">\n",
        "      <freejoint name=\"ball\"/>\n",
        "      <geom name=\"ball\" type=\"sphere\" size=\".02\" rgba=\".65 .81 .55 1\"/>\n",
        "    </body>\n",
        "\n",
        "    <body pos=\".26 -.3 .03\" euler=\"0 0 -90.0\">\n",
        "      <freejoint/>\n",
        "      <geom size=\".0015 .015 .03\" rgba=\"1 .5 .5 1\"/>\n",
        "    </body>\n",
        "\n",
        "    <body pos=\".26 -.27 .04\" euler=\"0 0 -81.0\">\n",
        "      <freejoint/>\n",
        "      <geom size=\".002 .02 .04\" rgba=\"1 1 .5 1\"/>\n",
        "    </body>\n",
        "\n",
        "    <body pos=\".24 -.21 .06\" euler=\"0 0 -63.0\">\n",
        "      <freejoint/>\n",
        "      <geom size=\".003 .03 .06\" rgba=\".5 1 .5 1\"/>\n",
        "    </body>\n",
        "\n",
        "    <body pos=\".2 -.16 .08\" euler=\"0 0 -45.0\">\n",
        "      <freejoint/>\n",
        "      <geom size=\".004 .04 .08\" rgba=\".5 1 1 1\"/>\n",
        "    </body>\n",
        "\n",
        "    <body pos=\".15 -.12 .1\" euler=\"0 0 -27.0\">\n",
        "      <freejoint/>\n",
        "      <geom size=\".005 .05 .1\" rgba=\".5 .5 1 1\"/>\n",
        "    </body>\n",
        "\n",
        "    <body pos=\".09 -.1 .12\" euler=\"0 0 -9.0\">\n",
        "      <freejoint/>\n",
        "      <geom size=\".006 .06 .12\" rgba=\"1 .5 1 1\"/>\n",
        "    </body>\n",
        "\n",
        "    <body name=\"seasaw_wrapper\" pos=\"-.23 -.1 0\" euler=\"0 0 30\">\n",
        "      <geom size=\".01 .01 .015\" pos=\"0 .05 .015\" class=\"static\"/>\n",
        "      <geom size=\".01 .01 .015\" pos=\"0 -.05 .015\" class=\"static\"/>\n",
        "      <geom type=\"cylinder\" size=\".01 .0175\" pos=\"-.09 0 .0175\" class=\"static\"/>\n",
        "      <body name=\"seasaw\" pos=\"0 0 .03\">\n",
        "        <joint axis=\"0 1 0\"/>\n",
        "        <geom type=\"cylinder\" size=\".005 .039\" zaxis=\"0 1 0\" rgba=\".84 .15 .33 1\"/>\n",
        "        <geom size=\".1 .02 .005\" pos=\"0 0 .01\" rgba=\".84 .15 .33 1\"/>\n",
        "      </body>\n",
        "    </body>\n",
        "\n",
        "    <body name=\"box\" pos=\"-.3 -.14 .05501\" euler=\"0 0 -30\">\n",
        "      <freejoint name=\"box\"/>\n",
        "      <geom name=\"box\" size=\".01 .01 .01\" rgba=\".0 .7 .79 1\"/>\n",
        "    </body>\n",
        "  </worldbody>\n",
        "</mujoco>\n",
        "\"\"\"\n",
        "model = mujoco.MjModel.from_xml_string(dominos_xml)\n",
        "data = mujoco.MjData(model)\n",
        "renderer = mujoco.Renderer(model, height=1024, width=1440)"
      ]
    },
    {
      "cell_type": "code",
      "execution_count": null,
      "metadata": {
        "cellView": "form",
        "id": "a2WruafiPhPk"
      },
      "outputs": [],
      "source": [
        "#@title Render from fixed camera\n",
        "duration = 2.5  # (seconds)\n",
        "framerate = 60  # (Hz)\n",
        "\n",
        "# Simulate and display video.\n",
        "frames = []\n",
        "mujoco.mj_resetData(model, data)  # Reset state and time.\n",
        "while data.time < duration:\n",
        "  mujoco.mj_step(model, data)\n",
        "  if len(frames) < data.time * framerate:\n",
        "    renderer.update_scene(data, camera='top')\n",
        "    pixels = renderer.render()\n",
        "    frames.append(pixels)\n",
        "media.show_video(frames, fps=framerate)"
      ]
    },
    {
      "cell_type": "code",
      "execution_count": null,
      "metadata": {
        "cellView": "form",
        "id": "Kie3y-27bQ3J"
      },
      "outputs": [],
      "source": [
        "#@title Render from moving camera\n",
        "duration = 3  # (seconds)\n",
        "\n",
        "# find time when box is thrown (speed > 2cm/s)\n",
        "throw_time = 0.0\n",
        "mujoco.mj_resetData(model, data)\n",
        "while data.time < duration and not throw_time:\n",
        "  mujoco.mj_step(model, data)\n",
        "  box_speed = np.linalg.norm(data.joint('box').qvel[:3])\n",
        "  if box_speed > 0.02:\n",
        "    throw_time = data.time\n",
        "assert throw_time > 0\n",
        "\n",
        "def mix(time, t0=0.0, width=1.0):\n",
        "  \"\"\"Sigmoidal mixing function.\"\"\"\n",
        "  t = (time - t0) / width\n",
        "  s = 1 / (1 + np.exp(-t))\n",
        "  return 1 - s, s\n",
        "\n",
        "def unit_cos(t):\n",
        "  \"\"\"Unit cosine sigmoid from (0,0) to (1,1).\"\"\"\n",
        "  return 0.5 - np.cos(np.pi*np.clip(t, 0, 1))/2\n",
        "\n",
        "def orbit_motion(t):\n",
        "  \"\"\"Return orbit trajectory.\"\"\"\n",
        "  distance = 0.9\n",
        "  azimuth = 140 + 100 * unit_cos(t)\n",
        "  elevation = -30\n",
        "  lookat = data.geom('floor').xpos.copy()\n",
        "  return distance, azimuth, elevation, lookat\n",
        "\n",
        "def track_motion():\n",
        "  \"\"\"Return box-track trajectory.\"\"\"\n",
        "  distance = 0.08\n",
        "  azimuth = 280\n",
        "  elevation = -10\n",
        "  lookat = data.geom('box').xpos.copy()\n",
        "  return distance, azimuth, elevation, lookat\n",
        "\n",
        "def cam_motion():\n",
        "  \"\"\"Return sigmoidally-mixed {orbit, box-track} trajectory.\"\"\"\n",
        "  d0, a0, e0, l0 = orbit_motion(data.time / throw_time)\n",
        "  d1, a1, e1, l1 = track_motion()\n",
        "  mix_time = 0.3\n",
        "  w0, w1 = mix(data.time, throw_time, mix_time)\n",
        "  return w0*d0+w1*d1, w0*a0+w1*a1, w0*e0+w1*e1, w0*l0+w1*l1\n",
        "\n",
        "# Make a camera.\n",
        "cam = mujoco.MjvCamera()\n",
        "mujoco.mjv_defaultCamera(cam)\n",
        "\n",
        "# Simulate and display video.\n",
        "framerate = 60  # (Hz)\n",
        "slowdown = 4    # 4x slow-down\n",
        "mujoco.mj_resetData(model, data)\n",
        "frames = []\n",
        "while data.time < duration:\n",
        "  mujoco.mj_step(model, data)\n",
        "  if len(frames) < data.time * framerate * slowdown:\n",
        "    cam.distance, cam.azimuth, cam.elevation, cam.lookat = cam_motion()\n",
        "    renderer.update_scene(data, cam)\n",
        "    pixels = renderer.render()\n",
        "    frames.append(pixels)\n",
        "media.show_video(frames, fps=framerate)"
      ]
    }
  ],
  "metadata": {
    "accelerator": "GPU",
    "colab": {
      "collapsed_sections": [
        "xBSdkbmGN2K-",
        "YvyGCsgSCxHQ"
      ],
      "gpuClass": "premium",
      "private_outputs": true,
      "provenance": []
    },
    "gpuClass": "premium",
    "kernelspec": {
      "display_name": "Python 3",
      "name": "python3"
    },
    "language_info": {
      "codemirror_mode": {
        "name": "ipython",
        "version": 3
      },
      "file_extension": ".py",
      "mimetype": "text/x-python",
      "name": "python",
      "nbconvert_exporter": "python",
      "pygments_lexer": "ipython3",
      "version": "3.10.16"
    }
  },
  "nbformat": 4,
  "nbformat_minor": 0
}
